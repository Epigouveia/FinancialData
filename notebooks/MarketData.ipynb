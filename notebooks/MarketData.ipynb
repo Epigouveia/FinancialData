{
 "cells": [
  {
   "cell_type": "code",
   "execution_count": 4,
   "metadata": {},
   "outputs": [],
   "source": [
    "import datetime as dt\n",
    "import matplotlib.pyplot as plt\n",
    "from matplotlib import style\n",
    "import pandas as pd\n",
    "import pandas_datareader.data as web\n",
    "import numpy as np\n",
    "\n",
    "style.use(\"ggplot\")\n"
   ]
  },
  {
   "cell_type": "code",
   "execution_count": 3,
   "metadata": {},
   "outputs": [
    {
     "name": "stdout",
     "output_type": "stream",
     "text": [
      "Collecting pandas-datareader\n",
      "\u001b[?25l  Downloading https://files.pythonhosted.org/packages/cc/5c/ea5b6dcfd0f55c5fb1e37fb45335ec01cceca199b8a79339137f5ed269e0/pandas_datareader-0.7.0-py2.py3-none-any.whl (111kB)\n",
      "\u001b[K    100% |████████████████████████████████| 112kB 3.2MB/s ta 0:00:01\n",
      "\u001b[?25hRequirement already satisfied: pandas>=0.19.2 in /srv/conda/lib/python3.6/site-packages (from pandas-datareader) (0.24.2)\n",
      "Collecting wrapt (from pandas-datareader)\n",
      "  Downloading https://files.pythonhosted.org/packages/23/84/323c2415280bc4fc880ac5050dddfb3c8062c2552b34c2e512eb4aa68f79/wrapt-1.11.2.tar.gz\n",
      "Requirement already satisfied: requests>=2.3.0 in /srv/conda/lib/python3.6/site-packages (from pandas-datareader) (2.21.0)\n",
      "Collecting lxml (from pandas-datareader)\n",
      "\u001b[?25l  Downloading https://files.pythonhosted.org/packages/2d/53/34a9f0c79c548e430148837892b6ae91adee571a0e8b6c17bd7ff9c2d12e/lxml-4.3.4-cp36-cp36m-manylinux1_x86_64.whl (5.7MB)\n",
      "\u001b[K    100% |████████████████████████████████| 5.7MB 1.6MB/s eta 0:00:01\n",
      "\u001b[?25hRequirement already satisfied: pytz>=2011k in /srv/conda/lib/python3.6/site-packages (from pandas>=0.19.2->pandas-datareader) (2019.1)\n",
      "Requirement already satisfied: numpy>=1.12.0 in /srv/conda/lib/python3.6/site-packages (from pandas>=0.19.2->pandas-datareader) (1.16.3)\n",
      "Requirement already satisfied: python-dateutil>=2.5.0 in /srv/conda/lib/python3.6/site-packages (from pandas>=0.19.2->pandas-datareader) (2.8.0)\n",
      "Requirement already satisfied: urllib3<1.25,>=1.21.1 in /srv/conda/lib/python3.6/site-packages (from requests>=2.3.0->pandas-datareader) (1.24.1)\n",
      "Requirement already satisfied: certifi>=2017.4.17 in /srv/conda/lib/python3.6/site-packages (from requests>=2.3.0->pandas-datareader) (2019.3.9)\n",
      "Requirement already satisfied: chardet<3.1.0,>=3.0.2 in /srv/conda/lib/python3.6/site-packages (from requests>=2.3.0->pandas-datareader) (3.0.4)\n",
      "Requirement already satisfied: idna<2.9,>=2.5 in /srv/conda/lib/python3.6/site-packages (from requests>=2.3.0->pandas-datareader) (2.8)\n",
      "Requirement already satisfied: six>=1.5 in /srv/conda/lib/python3.6/site-packages (from python-dateutil>=2.5.0->pandas>=0.19.2->pandas-datareader) (1.12.0)\n",
      "Building wheels for collected packages: wrapt\n",
      "  Building wheel for wrapt (setup.py) ... \u001b[?25ldone\n",
      "\u001b[?25h  Stored in directory: /home/jovyan/.cache/pip/wheels/d7/de/2e/efa132238792efb6459a96e85916ef8597fcb3d2ae51590dfd\n",
      "Successfully built wrapt\n",
      "Installing collected packages: wrapt, lxml, pandas-datareader\n",
      "Successfully installed lxml-4.3.4 pandas-datareader-0.7.0 wrapt-1.11.2\n"
     ]
    }
   ],
   "source": [
    "!pip install pandas-datareader"
   ]
  },
  {
   "cell_type": "code",
   "execution_count": 5,
   "metadata": {},
   "outputs": [
    {
     "name": "stdout",
     "output_type": "stream",
     "text": [
      "                   High          Low         Open        Close      Volume  \\\n",
      "Date                                                                         \n",
      "2012-11-05  1419.900024  1408.130005  1414.020020  1417.260010  2921040000   \n",
      "2012-11-06  1433.380005  1417.260010  1417.260010  1428.390015  3306970000   \n",
      "2012-11-07  1428.270020  1388.140015  1428.270020  1394.530029  4356490000   \n",
      "2012-11-08  1401.229980  1377.510010  1394.530029  1377.510010  3779520000   \n",
      "2012-11-09  1391.390015  1373.030029  1377.550049  1379.849976  3647350000   \n",
      "\n",
      "              Adj Close  \n",
      "Date                     \n",
      "2012-11-05  1417.260010  \n",
      "2012-11-06  1428.390015  \n",
      "2012-11-07  1394.530029  \n",
      "2012-11-08  1377.510010  \n",
      "2012-11-09  1379.849976  \n"
     ]
    }
   ],
   "source": [
    "start = dt.datetime(1962, 1, 3)\n",
    "end = dt.datetime(2012, 11, 9)\n",
    "\n",
    "df = web.DataReader(\"^GSPC\", \"yahoo\", start, end)\n",
    "print(df.tail())"
   ]
  },
  {
   "cell_type": "code",
   "execution_count": 6,
   "metadata": {},
   "outputs": [],
   "source": [
    "pd.DataFrame(df).to_csv(\"^GSPC_jupyter.csv\")"
   ]
  },
  {
   "cell_type": "code",
   "execution_count": 7,
   "metadata": {},
   "outputs": [
    {
     "data": {
      "text/plain": [
       "pandas.core.frame.DataFrame"
      ]
     },
     "execution_count": 7,
     "metadata": {},
     "output_type": "execute_result"
    }
   ],
   "source": [
    "type(df) # This was that the df is a dataframe type"
   ]
  },
  {
   "cell_type": "code",
   "execution_count": 8,
   "metadata": {},
   "outputs": [
    {
     "data": {
      "text/html": [
       "<div>\n",
       "<style scoped>\n",
       "    .dataframe tbody tr th:only-of-type {\n",
       "        vertical-align: middle;\n",
       "    }\n",
       "\n",
       "    .dataframe tbody tr th {\n",
       "        vertical-align: top;\n",
       "    }\n",
       "\n",
       "    .dataframe thead th {\n",
       "        text-align: right;\n",
       "    }\n",
       "</style>\n",
       "<table border=\"1\" class=\"dataframe\">\n",
       "  <thead>\n",
       "    <tr style=\"text-align: right;\">\n",
       "      <th></th>\n",
       "      <th>Date</th>\n",
       "      <th>High</th>\n",
       "      <th>Low</th>\n",
       "      <th>Open</th>\n",
       "      <th>Close</th>\n",
       "      <th>Volume</th>\n",
       "      <th>Adj Close</th>\n",
       "    </tr>\n",
       "  </thead>\n",
       "  <tbody>\n",
       "    <tr>\n",
       "      <th>0</th>\n",
       "      <td>1962-01-03</td>\n",
       "      <td>71.480003</td>\n",
       "      <td>70.379997</td>\n",
       "      <td>70.959999</td>\n",
       "      <td>71.129997</td>\n",
       "      <td>3590000</td>\n",
       "      <td>71.129997</td>\n",
       "    </tr>\n",
       "    <tr>\n",
       "      <th>1</th>\n",
       "      <td>1962-01-04</td>\n",
       "      <td>71.620003</td>\n",
       "      <td>70.449997</td>\n",
       "      <td>71.129997</td>\n",
       "      <td>70.639999</td>\n",
       "      <td>4450000</td>\n",
       "      <td>70.639999</td>\n",
       "    </tr>\n",
       "    <tr>\n",
       "      <th>2</th>\n",
       "      <td>1962-01-05</td>\n",
       "      <td>70.839996</td>\n",
       "      <td>69.349998</td>\n",
       "      <td>70.639999</td>\n",
       "      <td>69.660004</td>\n",
       "      <td>4630000</td>\n",
       "      <td>69.660004</td>\n",
       "    </tr>\n",
       "    <tr>\n",
       "      <th>3</th>\n",
       "      <td>1962-01-08</td>\n",
       "      <td>69.839996</td>\n",
       "      <td>68.169998</td>\n",
       "      <td>69.660004</td>\n",
       "      <td>69.120003</td>\n",
       "      <td>4620000</td>\n",
       "      <td>69.120003</td>\n",
       "    </tr>\n",
       "    <tr>\n",
       "      <th>4</th>\n",
       "      <td>1962-01-09</td>\n",
       "      <td>69.930000</td>\n",
       "      <td>68.830002</td>\n",
       "      <td>69.120003</td>\n",
       "      <td>69.150002</td>\n",
       "      <td>3600000</td>\n",
       "      <td>69.150002</td>\n",
       "    </tr>\n",
       "  </tbody>\n",
       "</table>\n",
       "</div>"
      ],
      "text/plain": [
       "         Date       High        Low       Open      Close   Volume  Adj Close\n",
       "0  1962-01-03  71.480003  70.379997  70.959999  71.129997  3590000  71.129997\n",
       "1  1962-01-04  71.620003  70.449997  71.129997  70.639999  4450000  70.639999\n",
       "2  1962-01-05  70.839996  69.349998  70.639999  69.660004  4630000  69.660004\n",
       "3  1962-01-08  69.839996  68.169998  69.660004  69.120003  4620000  69.120003\n",
       "4  1962-01-09  69.930000  68.830002  69.120003  69.150002  3600000  69.150002"
      ]
     },
     "execution_count": 8,
     "metadata": {},
     "output_type": "execute_result"
    }
   ],
   "source": [
    "\n",
    "GSPCdf = pd.read_csv(\"^GSPC_jupyter.csv\")\n",
    "GSPCdf.head()"
   ]
  },
  {
   "cell_type": "code",
   "execution_count": 9,
   "metadata": {},
   "outputs": [
    {
     "data": {
      "text/html": [
       "<div>\n",
       "<style scoped>\n",
       "    .dataframe tbody tr th:only-of-type {\n",
       "        vertical-align: middle;\n",
       "    }\n",
       "\n",
       "    .dataframe tbody tr th {\n",
       "        vertical-align: top;\n",
       "    }\n",
       "\n",
       "    .dataframe thead th {\n",
       "        text-align: right;\n",
       "    }\n",
       "</style>\n",
       "<table border=\"1\" class=\"dataframe\">\n",
       "  <thead>\n",
       "    <tr style=\"text-align: right;\">\n",
       "      <th></th>\n",
       "      <th>Date</th>\n",
       "      <th>High</th>\n",
       "      <th>Low</th>\n",
       "      <th>Open</th>\n",
       "      <th>Close</th>\n",
       "      <th>Volume</th>\n",
       "      <th>Adj Close</th>\n",
       "      <th>Returns</th>\n",
       "    </tr>\n",
       "  </thead>\n",
       "  <tbody>\n",
       "    <tr>\n",
       "      <th>0</th>\n",
       "      <td>1962-01-03</td>\n",
       "      <td>71.480003</td>\n",
       "      <td>70.379997</td>\n",
       "      <td>70.959999</td>\n",
       "      <td>71.129997</td>\n",
       "      <td>3590000</td>\n",
       "      <td>71.129997</td>\n",
       "      <td>0.002396</td>\n",
       "    </tr>\n",
       "    <tr>\n",
       "      <th>1</th>\n",
       "      <td>1962-01-04</td>\n",
       "      <td>71.620003</td>\n",
       "      <td>70.449997</td>\n",
       "      <td>71.129997</td>\n",
       "      <td>70.639999</td>\n",
       "      <td>4450000</td>\n",
       "      <td>70.639999</td>\n",
       "      <td>-0.006889</td>\n",
       "    </tr>\n",
       "    <tr>\n",
       "      <th>2</th>\n",
       "      <td>1962-01-05</td>\n",
       "      <td>70.839996</td>\n",
       "      <td>69.349998</td>\n",
       "      <td>70.639999</td>\n",
       "      <td>69.660004</td>\n",
       "      <td>4630000</td>\n",
       "      <td>69.660004</td>\n",
       "      <td>-0.013873</td>\n",
       "    </tr>\n",
       "    <tr>\n",
       "      <th>3</th>\n",
       "      <td>1962-01-08</td>\n",
       "      <td>69.839996</td>\n",
       "      <td>68.169998</td>\n",
       "      <td>69.660004</td>\n",
       "      <td>69.120003</td>\n",
       "      <td>4620000</td>\n",
       "      <td>69.120003</td>\n",
       "      <td>-0.007752</td>\n",
       "    </tr>\n",
       "    <tr>\n",
       "      <th>4</th>\n",
       "      <td>1962-01-09</td>\n",
       "      <td>69.930000</td>\n",
       "      <td>68.830002</td>\n",
       "      <td>69.120003</td>\n",
       "      <td>69.150002</td>\n",
       "      <td>3600000</td>\n",
       "      <td>69.150002</td>\n",
       "      <td>0.000434</td>\n",
       "    </tr>\n",
       "  </tbody>\n",
       "</table>\n",
       "</div>"
      ],
      "text/plain": [
       "         Date       High        Low       Open      Close   Volume  Adj Close  \\\n",
       "0  1962-01-03  71.480003  70.379997  70.959999  71.129997  3590000  71.129997   \n",
       "1  1962-01-04  71.620003  70.449997  71.129997  70.639999  4450000  70.639999   \n",
       "2  1962-01-05  70.839996  69.349998  70.639999  69.660004  4630000  69.660004   \n",
       "3  1962-01-08  69.839996  68.169998  69.660004  69.120003  4620000  69.120003   \n",
       "4  1962-01-09  69.930000  68.830002  69.120003  69.150002  3600000  69.150002   \n",
       "\n",
       "    Returns  \n",
       "0  0.002396  \n",
       "1 -0.006889  \n",
       "2 -0.013873  \n",
       "3 -0.007752  \n",
       "4  0.000434  "
      ]
     },
     "execution_count": 9,
     "metadata": {},
     "output_type": "execute_result"
    }
   ],
   "source": [
    "GSPCdf = GSPCdf.assign(Returns = ((GSPCdf.Close - GSPCdf.Open) / GSPCdf.Open))\n",
    "GSPCdf.head()"
   ]
  },
  {
   "cell_type": "code",
   "execution_count": null,
   "metadata": {},
   "outputs": [],
   "source": []
  }
 ],
 "metadata": {
  "kernelspec": {
   "display_name": "Python 3",
   "language": "python",
   "name": "python3"
  },
  "language_info": {
   "codemirror_mode": {
    "name": "ipython",
    "version": 3
   },
   "file_extension": ".py",
   "mimetype": "text/x-python",
   "name": "python",
   "nbconvert_exporter": "python",
   "pygments_lexer": "ipython3",
   "version": "3.6.7"
  }
 },
 "nbformat": 4,
 "nbformat_minor": 2
}
