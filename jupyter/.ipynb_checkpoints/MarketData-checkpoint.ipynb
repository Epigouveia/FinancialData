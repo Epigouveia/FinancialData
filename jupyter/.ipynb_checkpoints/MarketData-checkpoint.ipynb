{
 "cells": [
  {
   "cell_type": "code",
   "execution_count": 92,
   "metadata": {},
   "outputs": [],
   "source": [
    "import datetime as dt\n",
    "import matplotlib.pyplot as plt\n",
    "from matplotlib import style\n",
    "import pandas as pd\n",
    "import pandas_datareader.data as web\n",
    "import numpy as np\n",
    "import seaborn as sns\n",
    "\n",
    "style.use(\"ggplot\")\n",
    "\n",
    "%matplotlib inline"
   ]
  },
  {
   "cell_type": "code",
   "execution_count": 93,
   "metadata": {
    "scrolled": false
   },
   "outputs": [],
   "source": [
    "#I only have to do this once. Then I just save the data as a csv file and read it in.\n",
    "#start = dt.datetime(1962, 1, 3)\n",
    "#end = dt.datetime(2012, 11, 9)\n",
    "\n",
    "#df = web.DataReader(\"^GSPC\", \"yahoo\", start, end)\n",
    "#print(df.head())"
   ]
  },
  {
   "cell_type": "code",
   "execution_count": 94,
   "metadata": {},
   "outputs": [],
   "source": [
    "#here I add a smaller version of the data so it is not so heavy on the computer to work with as I find \n",
    "# many times crashing the python environment\n",
    "#start = dt.datetime(2010, 1, 3)\n",
    "#end = dt.datetime(2012, 11, 9)\n",
    "\n",
    "#df = web.DataReader(\"^GSPC\", \"yahoo\", start, end)\n",
    "#print(df.tail())"
   ]
  },
  {
   "cell_type": "code",
   "execution_count": 95,
   "metadata": {},
   "outputs": [],
   "source": [
    "#pd.DataFrame(df).to_csv(\"^GSPC_jupyter.csv\")"
   ]
  },
  {
   "cell_type": "code",
   "execution_count": 96,
   "metadata": {},
   "outputs": [],
   "source": [
    "#type(df) # This was that the df is a dataframe type\n"
   ]
  },
  {
   "cell_type": "code",
   "execution_count": 97,
   "metadata": {
    "scrolled": true
   },
   "outputs": [
    {
     "data": {
      "text/html": [
       "<div>\n",
       "<style scoped>\n",
       "    .dataframe tbody tr th:only-of-type {\n",
       "        vertical-align: middle;\n",
       "    }\n",
       "\n",
       "    .dataframe tbody tr th {\n",
       "        vertical-align: top;\n",
       "    }\n",
       "\n",
       "    .dataframe thead th {\n",
       "        text-align: right;\n",
       "    }\n",
       "</style>\n",
       "<table border=\"1\" class=\"dataframe\">\n",
       "  <thead>\n",
       "    <tr style=\"text-align: right;\">\n",
       "      <th></th>\n",
       "      <th>Date</th>\n",
       "      <th>Open</th>\n",
       "      <th>High</th>\n",
       "      <th>Low</th>\n",
       "      <th>Close</th>\n",
       "      <th>Volume</th>\n",
       "      <th>Adj Close</th>\n",
       "    </tr>\n",
       "  </thead>\n",
       "  <tbody>\n",
       "    <tr>\n",
       "      <th>0</th>\n",
       "      <td>11/9/2012</td>\n",
       "      <td>1377.55</td>\n",
       "      <td>1391.39</td>\n",
       "      <td>1373.03</td>\n",
       "      <td>1379.85</td>\n",
       "      <td>3647350000</td>\n",
       "      <td>1379.85</td>\n",
       "    </tr>\n",
       "    <tr>\n",
       "      <th>1</th>\n",
       "      <td>11/8/2012</td>\n",
       "      <td>1394.53</td>\n",
       "      <td>1401.23</td>\n",
       "      <td>1377.51</td>\n",
       "      <td>1377.51</td>\n",
       "      <td>3779520000</td>\n",
       "      <td>1377.51</td>\n",
       "    </tr>\n",
       "    <tr>\n",
       "      <th>2</th>\n",
       "      <td>11/7/2012</td>\n",
       "      <td>1428.27</td>\n",
       "      <td>1428.27</td>\n",
       "      <td>1388.14</td>\n",
       "      <td>1394.53</td>\n",
       "      <td>4356490000</td>\n",
       "      <td>1394.53</td>\n",
       "    </tr>\n",
       "    <tr>\n",
       "      <th>3</th>\n",
       "      <td>11/6/2012</td>\n",
       "      <td>1417.26</td>\n",
       "      <td>1433.38</td>\n",
       "      <td>1417.26</td>\n",
       "      <td>1428.39</td>\n",
       "      <td>3306970000</td>\n",
       "      <td>1428.39</td>\n",
       "    </tr>\n",
       "    <tr>\n",
       "      <th>4</th>\n",
       "      <td>11/5/2012</td>\n",
       "      <td>1414.02</td>\n",
       "      <td>1419.90</td>\n",
       "      <td>1408.13</td>\n",
       "      <td>1417.26</td>\n",
       "      <td>2921040000</td>\n",
       "      <td>1417.26</td>\n",
       "    </tr>\n",
       "  </tbody>\n",
       "</table>\n",
       "</div>"
      ],
      "text/plain": [
       "        Date     Open     High      Low    Close      Volume  Adj Close\n",
       "0  11/9/2012  1377.55  1391.39  1373.03  1379.85  3647350000    1379.85\n",
       "1  11/8/2012  1394.53  1401.23  1377.51  1377.51  3779520000    1377.51\n",
       "2  11/7/2012  1428.27  1428.27  1388.14  1394.53  4356490000    1394.53\n",
       "3  11/6/2012  1417.26  1433.38  1417.26  1428.39  3306970000    1428.39\n",
       "4  11/5/2012  1414.02  1419.90  1408.13  1417.26  2921040000    1417.26"
      ]
     },
     "execution_count": 97,
     "metadata": {},
     "output_type": "execute_result"
    }
   ],
   "source": [
    "GSPC = pd.read_csv(\"GSPC_Data.csv\")\n",
    "GSPCdf = pd.DataFrame(GSPC)\n",
    "GSPCdf.head()"
   ]
  },
  {
   "cell_type": "code",
   "execution_count": 98,
   "metadata": {
    "scrolled": true
   },
   "outputs": [
    {
     "data": {
      "text/html": [
       "<div>\n",
       "<style scoped>\n",
       "    .dataframe tbody tr th:only-of-type {\n",
       "        vertical-align: middle;\n",
       "    }\n",
       "\n",
       "    .dataframe tbody tr th {\n",
       "        vertical-align: top;\n",
       "    }\n",
       "\n",
       "    .dataframe thead th {\n",
       "        text-align: right;\n",
       "    }\n",
       "</style>\n",
       "<table border=\"1\" class=\"dataframe\">\n",
       "  <thead>\n",
       "    <tr style=\"text-align: right;\">\n",
       "      <th></th>\n",
       "      <th>Date</th>\n",
       "      <th>Open</th>\n",
       "      <th>High</th>\n",
       "      <th>Low</th>\n",
       "      <th>Close</th>\n",
       "      <th>Volume</th>\n",
       "      <th>Adj Close</th>\n",
       "      <th>Returns</th>\n",
       "    </tr>\n",
       "  </thead>\n",
       "  <tbody>\n",
       "    <tr>\n",
       "      <th>0</th>\n",
       "      <td>11/9/2012</td>\n",
       "      <td>1377.55</td>\n",
       "      <td>1391.39</td>\n",
       "      <td>1373.03</td>\n",
       "      <td>1379.85</td>\n",
       "      <td>3647350000</td>\n",
       "      <td>1379.85</td>\n",
       "      <td>0.001670</td>\n",
       "    </tr>\n",
       "    <tr>\n",
       "      <th>1</th>\n",
       "      <td>11/8/2012</td>\n",
       "      <td>1394.53</td>\n",
       "      <td>1401.23</td>\n",
       "      <td>1377.51</td>\n",
       "      <td>1377.51</td>\n",
       "      <td>3779520000</td>\n",
       "      <td>1377.51</td>\n",
       "      <td>-0.012205</td>\n",
       "    </tr>\n",
       "    <tr>\n",
       "      <th>2</th>\n",
       "      <td>11/7/2012</td>\n",
       "      <td>1428.27</td>\n",
       "      <td>1428.27</td>\n",
       "      <td>1388.14</td>\n",
       "      <td>1394.53</td>\n",
       "      <td>4356490000</td>\n",
       "      <td>1394.53</td>\n",
       "      <td>-0.023623</td>\n",
       "    </tr>\n",
       "    <tr>\n",
       "      <th>3</th>\n",
       "      <td>11/6/2012</td>\n",
       "      <td>1417.26</td>\n",
       "      <td>1433.38</td>\n",
       "      <td>1417.26</td>\n",
       "      <td>1428.39</td>\n",
       "      <td>3306970000</td>\n",
       "      <td>1428.39</td>\n",
       "      <td>0.007853</td>\n",
       "    </tr>\n",
       "    <tr>\n",
       "      <th>4</th>\n",
       "      <td>11/5/2012</td>\n",
       "      <td>1414.02</td>\n",
       "      <td>1419.90</td>\n",
       "      <td>1408.13</td>\n",
       "      <td>1417.26</td>\n",
       "      <td>2921040000</td>\n",
       "      <td>1417.26</td>\n",
       "      <td>0.002291</td>\n",
       "    </tr>\n",
       "  </tbody>\n",
       "</table>\n",
       "</div>"
      ],
      "text/plain": [
       "        Date     Open     High      Low    Close      Volume  Adj Close  \\\n",
       "0  11/9/2012  1377.55  1391.39  1373.03  1379.85  3647350000    1379.85   \n",
       "1  11/8/2012  1394.53  1401.23  1377.51  1377.51  3779520000    1377.51   \n",
       "2  11/7/2012  1428.27  1428.27  1388.14  1394.53  4356490000    1394.53   \n",
       "3  11/6/2012  1417.26  1433.38  1417.26  1428.39  3306970000    1428.39   \n",
       "4  11/5/2012  1414.02  1419.90  1408.13  1417.26  2921040000    1417.26   \n",
       "\n",
       "    Returns  \n",
       "0  0.001670  \n",
       "1 -0.012205  \n",
       "2 -0.023623  \n",
       "3  0.007853  \n",
       "4  0.002291  "
      ]
     },
     "execution_count": 98,
     "metadata": {},
     "output_type": "execute_result"
    }
   ],
   "source": [
    "GSPCdf[\"Returns\"] = (GSPCdf.Close - GSPCdf.Open) / GSPCdf.Open\n",
    "GSPCdf.head()"
   ]
  },
  {
   "cell_type": "code",
   "execution_count": 99,
   "metadata": {
    "scrolled": true
   },
   "outputs": [
    {
     "data": {
      "text/html": [
       "<div>\n",
       "<style scoped>\n",
       "    .dataframe tbody tr th:only-of-type {\n",
       "        vertical-align: middle;\n",
       "    }\n",
       "\n",
       "    .dataframe tbody tr th {\n",
       "        vertical-align: top;\n",
       "    }\n",
       "\n",
       "    .dataframe thead th {\n",
       "        text-align: right;\n",
       "    }\n",
       "</style>\n",
       "<table border=\"1\" class=\"dataframe\">\n",
       "  <thead>\n",
       "    <tr style=\"text-align: right;\">\n",
       "      <th></th>\n",
       "      <th>Open</th>\n",
       "      <th>High</th>\n",
       "      <th>Low</th>\n",
       "      <th>Close</th>\n",
       "      <th>Volume</th>\n",
       "      <th>Adj Close</th>\n",
       "      <th>Returns</th>\n",
       "    </tr>\n",
       "  </thead>\n",
       "  <tbody>\n",
       "    <tr>\n",
       "      <th>count</th>\n",
       "      <td>12803.000000</td>\n",
       "      <td>12803.000000</td>\n",
       "      <td>12803.000000</td>\n",
       "      <td>12803.000000</td>\n",
       "      <td>1.280300e+04</td>\n",
       "      <td>12803.000000</td>\n",
       "      <td>12803.000000</td>\n",
       "    </tr>\n",
       "    <tr>\n",
       "      <th>mean</th>\n",
       "      <td>504.025300</td>\n",
       "      <td>507.465628</td>\n",
       "      <td>500.405376</td>\n",
       "      <td>504.138625</td>\n",
       "      <td>8.202307e+08</td>\n",
       "      <td>504.138625</td>\n",
       "      <td>0.000291</td>\n",
       "    </tr>\n",
       "    <tr>\n",
       "      <th>std</th>\n",
       "      <td>485.905591</td>\n",
       "      <td>489.159731</td>\n",
       "      <td>482.385219</td>\n",
       "      <td>485.965435</td>\n",
       "      <td>1.467139e+09</td>\n",
       "      <td>485.965435</td>\n",
       "      <td>0.010015</td>\n",
       "    </tr>\n",
       "    <tr>\n",
       "      <th>min</th>\n",
       "      <td>52.320000</td>\n",
       "      <td>52.830000</td>\n",
       "      <td>51.350000</td>\n",
       "      <td>52.320000</td>\n",
       "      <td>1.950000e+06</td>\n",
       "      <td>52.320000</td>\n",
       "      <td>-0.204669</td>\n",
       "    </tr>\n",
       "    <tr>\n",
       "      <th>25%</th>\n",
       "      <td>99.785000</td>\n",
       "      <td>100.620000</td>\n",
       "      <td>99.015000</td>\n",
       "      <td>99.785000</td>\n",
       "      <td>1.765500e+07</td>\n",
       "      <td>99.785000</td>\n",
       "      <td>-0.004380</td>\n",
       "    </tr>\n",
       "    <tr>\n",
       "      <th>50%</th>\n",
       "      <td>258.890000</td>\n",
       "      <td>261.160000</td>\n",
       "      <td>257.500000</td>\n",
       "      <td>259.210000</td>\n",
       "      <td>1.419500e+08</td>\n",
       "      <td>259.210000</td>\n",
       "      <td>0.000390</td>\n",
       "    </tr>\n",
       "    <tr>\n",
       "      <th>75%</th>\n",
       "      <td>999.785000</td>\n",
       "      <td>1007.845000</td>\n",
       "      <td>990.970000</td>\n",
       "      <td>1000.360000</td>\n",
       "      <td>9.146000e+08</td>\n",
       "      <td>1000.360000</td>\n",
       "      <td>0.005077</td>\n",
       "    </tr>\n",
       "    <tr>\n",
       "      <th>max</th>\n",
       "      <td>1564.980000</td>\n",
       "      <td>1576.090000</td>\n",
       "      <td>1555.460000</td>\n",
       "      <td>1565.150000</td>\n",
       "      <td>1.145623e+10</td>\n",
       "      <td>1565.150000</td>\n",
       "      <td>0.107890</td>\n",
       "    </tr>\n",
       "  </tbody>\n",
       "</table>\n",
       "</div>"
      ],
      "text/plain": [
       "               Open          High           Low         Close        Volume  \\\n",
       "count  12803.000000  12803.000000  12803.000000  12803.000000  1.280300e+04   \n",
       "mean     504.025300    507.465628    500.405376    504.138625  8.202307e+08   \n",
       "std      485.905591    489.159731    482.385219    485.965435  1.467139e+09   \n",
       "min       52.320000     52.830000     51.350000     52.320000  1.950000e+06   \n",
       "25%       99.785000    100.620000     99.015000     99.785000  1.765500e+07   \n",
       "50%      258.890000    261.160000    257.500000    259.210000  1.419500e+08   \n",
       "75%      999.785000   1007.845000    990.970000   1000.360000  9.146000e+08   \n",
       "max     1564.980000   1576.090000   1555.460000   1565.150000  1.145623e+10   \n",
       "\n",
       "          Adj Close       Returns  \n",
       "count  12803.000000  12803.000000  \n",
       "mean     504.138625      0.000291  \n",
       "std      485.965435      0.010015  \n",
       "min       52.320000     -0.204669  \n",
       "25%       99.785000     -0.004380  \n",
       "50%      259.210000      0.000390  \n",
       "75%     1000.360000      0.005077  \n",
       "max     1565.150000      0.107890  "
      ]
     },
     "execution_count": 99,
     "metadata": {},
     "output_type": "execute_result"
    }
   ],
   "source": [
    "GSPCdf.describe() # very useful to see the count value"
   ]
  },
  {
   "cell_type": "code",
   "execution_count": 100,
   "metadata": {},
   "outputs": [
    {
     "data": {
      "text/plain": [
       "12803"
      ]
     },
     "execution_count": 100,
     "metadata": {},
     "output_type": "execute_result"
    }
   ],
   "source": [
    "Rtcount = len(GSPCdf.Returns)\n",
    "Rtcount"
   ]
  },
  {
   "cell_type": "code",
   "execution_count": 101,
   "metadata": {},
   "outputs": [],
   "source": [
    "Bins = [-0.025, -0.02, -0.015, -0.01, -0.005, 0, 0.005, 0.01, 0.015, 0.02, 0.025]"
   ]
  },
  {
   "cell_type": "code",
   "execution_count": 102,
   "metadata": {},
   "outputs": [
    {
     "data": {
      "text/plain": [
       "['-0.025 to -0.02',\n",
       " '-0.02 to -0.015',\n",
       " '-0.015 to -0.01',\n",
       " '-0.01 to -0.005',\n",
       " '-0.005 to 0',\n",
       " '0 to 0.005',\n",
       " '0.005 to 0.01',\n",
       " '0.01 to 0.015',\n",
       " '0.015 to 0.02',\n",
       " '0.02 to 0.025']"
      ]
     },
     "execution_count": 102,
     "metadata": {},
     "output_type": "execute_result"
    }
   ],
   "source": [
    "intervals = [\"-0.025 to -0.02\", \"-0.02 to -0.015\", \"-0.015 to -0.01\", \"-0.01 to -0.005\",\"-0.005 to 0\", \n",
    "             \"0 to 0.005\", \"0.005 to 0.01\", \"0.01 to 0.015\", \"0.015 to 0.02\", \"0.02 to 0.025\"]\n",
    "intervals"
   ]
  },
  {
   "cell_type": "code",
   "execution_count": 103,
   "metadata": {},
   "outputs": [
    {
     "data": {
      "text/plain": [
       "10"
      ]
     },
     "execution_count": 103,
     "metadata": {},
     "output_type": "execute_result"
    }
   ],
   "source": [
    "intervalscount =  len(intervals)\n",
    "intervalscount"
   ]
  },
  {
   "cell_type": "code",
   "execution_count": 104,
   "metadata": {
    "scrolled": false
   },
   "outputs": [
    {
     "data": {
      "text/html": [
       "<div>\n",
       "<style scoped>\n",
       "    .dataframe tbody tr th:only-of-type {\n",
       "        vertical-align: middle;\n",
       "    }\n",
       "\n",
       "    .dataframe tbody tr th {\n",
       "        vertical-align: top;\n",
       "    }\n",
       "\n",
       "    .dataframe thead th {\n",
       "        text-align: right;\n",
       "    }\n",
       "</style>\n",
       "<table border=\"1\" class=\"dataframe\">\n",
       "  <thead>\n",
       "    <tr style=\"text-align: right;\">\n",
       "      <th></th>\n",
       "      <th>Date</th>\n",
       "      <th>Open</th>\n",
       "      <th>High</th>\n",
       "      <th>Low</th>\n",
       "      <th>Close</th>\n",
       "      <th>Volume</th>\n",
       "      <th>Adj Close</th>\n",
       "      <th>Returns</th>\n",
       "      <th>Return % Bins</th>\n",
       "    </tr>\n",
       "  </thead>\n",
       "  <tbody>\n",
       "    <tr>\n",
       "      <th>12798</th>\n",
       "      <td>1/9/1962</td>\n",
       "      <td>69.12</td>\n",
       "      <td>69.93</td>\n",
       "      <td>68.83</td>\n",
       "      <td>69.15</td>\n",
       "      <td>3600000</td>\n",
       "      <td>69.15</td>\n",
       "      <td>0.000434</td>\n",
       "      <td>0 to 0.005</td>\n",
       "    </tr>\n",
       "    <tr>\n",
       "      <th>12799</th>\n",
       "      <td>1/8/1962</td>\n",
       "      <td>69.66</td>\n",
       "      <td>69.84</td>\n",
       "      <td>68.17</td>\n",
       "      <td>69.12</td>\n",
       "      <td>4620000</td>\n",
       "      <td>69.12</td>\n",
       "      <td>-0.007752</td>\n",
       "      <td>-0.01 to -0.005</td>\n",
       "    </tr>\n",
       "    <tr>\n",
       "      <th>12800</th>\n",
       "      <td>1/5/1962</td>\n",
       "      <td>70.64</td>\n",
       "      <td>70.84</td>\n",
       "      <td>69.35</td>\n",
       "      <td>69.66</td>\n",
       "      <td>4630000</td>\n",
       "      <td>69.66</td>\n",
       "      <td>-0.013873</td>\n",
       "      <td>-0.015 to -0.01</td>\n",
       "    </tr>\n",
       "    <tr>\n",
       "      <th>12801</th>\n",
       "      <td>1/4/1962</td>\n",
       "      <td>71.13</td>\n",
       "      <td>71.62</td>\n",
       "      <td>70.45</td>\n",
       "      <td>70.64</td>\n",
       "      <td>4450000</td>\n",
       "      <td>70.64</td>\n",
       "      <td>-0.006889</td>\n",
       "      <td>-0.01 to -0.005</td>\n",
       "    </tr>\n",
       "    <tr>\n",
       "      <th>12802</th>\n",
       "      <td>1/3/1962</td>\n",
       "      <td>70.96</td>\n",
       "      <td>71.48</td>\n",
       "      <td>70.38</td>\n",
       "      <td>71.13</td>\n",
       "      <td>3590000</td>\n",
       "      <td>71.13</td>\n",
       "      <td>0.002396</td>\n",
       "      <td>0 to 0.005</td>\n",
       "    </tr>\n",
       "  </tbody>\n",
       "</table>\n",
       "</div>"
      ],
      "text/plain": [
       "           Date   Open   High    Low  Close   Volume  Adj Close   Returns  \\\n",
       "12798  1/9/1962  69.12  69.93  68.83  69.15  3600000      69.15  0.000434   \n",
       "12799  1/8/1962  69.66  69.84  68.17  69.12  4620000      69.12 -0.007752   \n",
       "12800  1/5/1962  70.64  70.84  69.35  69.66  4630000      69.66 -0.013873   \n",
       "12801  1/4/1962  71.13  71.62  70.45  70.64  4450000      70.64 -0.006889   \n",
       "12802  1/3/1962  70.96  71.48  70.38  71.13  3590000      71.13  0.002396   \n",
       "\n",
       "         Return % Bins  \n",
       "12798       0 to 0.005  \n",
       "12799  -0.01 to -0.005  \n",
       "12800  -0.015 to -0.01  \n",
       "12801  -0.01 to -0.005  \n",
       "12802       0 to 0.005  "
      ]
     },
     "execution_count": 104,
     "metadata": {},
     "output_type": "execute_result"
    }
   ],
   "source": [
    "GSPCdf[\"Return % Bins\"] = pd.cut(GSPCdf[\"Returns\"], Bins, labels=intervals)\n",
    "GSPCdf.tail()"
   ]
  },
  {
   "cell_type": "code",
   "execution_count": 105,
   "metadata": {},
   "outputs": [
    {
     "data": {
      "text/html": [
       "<div>\n",
       "<style scoped>\n",
       "    .dataframe tbody tr th:only-of-type {\n",
       "        vertical-align: middle;\n",
       "    }\n",
       "\n",
       "    .dataframe tbody tr th {\n",
       "        vertical-align: top;\n",
       "    }\n",
       "\n",
       "    .dataframe thead th {\n",
       "        text-align: right;\n",
       "    }\n",
       "</style>\n",
       "<table border=\"1\" class=\"dataframe\">\n",
       "  <thead>\n",
       "    <tr style=\"text-align: right;\">\n",
       "      <th></th>\n",
       "      <th>Returns</th>\n",
       "      <th>Return % Bins</th>\n",
       "    </tr>\n",
       "  </thead>\n",
       "  <tbody>\n",
       "    <tr>\n",
       "      <th>0</th>\n",
       "      <td>0.001670</td>\n",
       "      <td>0 to 0.005</td>\n",
       "    </tr>\n",
       "    <tr>\n",
       "      <th>1</th>\n",
       "      <td>-0.012205</td>\n",
       "      <td>-0.015 to -0.01</td>\n",
       "    </tr>\n",
       "    <tr>\n",
       "      <th>2</th>\n",
       "      <td>-0.023623</td>\n",
       "      <td>-0.025 to -0.02</td>\n",
       "    </tr>\n",
       "    <tr>\n",
       "      <th>3</th>\n",
       "      <td>0.007853</td>\n",
       "      <td>0.005 to 0.01</td>\n",
       "    </tr>\n",
       "    <tr>\n",
       "      <th>4</th>\n",
       "      <td>0.002291</td>\n",
       "      <td>0 to 0.005</td>\n",
       "    </tr>\n",
       "  </tbody>\n",
       "</table>\n",
       "</div>"
      ],
      "text/plain": [
       "    Returns    Return % Bins\n",
       "0  0.001670       0 to 0.005\n",
       "1 -0.012205  -0.015 to -0.01\n",
       "2 -0.023623  -0.025 to -0.02\n",
       "3  0.007853    0.005 to 0.01\n",
       "4  0.002291       0 to 0.005"
      ]
     },
     "execution_count": 105,
     "metadata": {},
     "output_type": "execute_result"
    }
   ],
   "source": [
    "GSPCdfReturn = GSPCdf.loc[:, \"Returns\":\"Return % Bins\"]\n",
    "GSPCdfReturn.head()"
   ]
  },
  {
   "cell_type": "code",
   "execution_count": 106,
   "metadata": {},
   "outputs": [
    {
     "data": {
      "text/plain": [
       "-0.006927790375352171"
      ]
     },
     "execution_count": 106,
     "metadata": {},
     "output_type": "execute_result"
    }
   ],
   "source": [
    "#Get the average of return that is negative\n",
    "avgNegReturns = GSPCdf.loc[:,\"Returns\"]\n",
    "avgNegReturns = avgNegReturns.loc[avgNegReturns<0]\n",
    "avgNegReturns = avgNegReturns.mean()\n",
    "avgNegReturns"
   ]
  },
  {
   "cell_type": "code",
   "execution_count": 107,
   "metadata": {},
   "outputs": [
    {
     "data": {
      "text/plain": [
       "0.006759159885067571"
      ]
     },
     "execution_count": 107,
     "metadata": {},
     "output_type": "execute_result"
    }
   ],
   "source": [
    "#Get the average of return that is positive\n",
    "avgPosReturns = GSPCdf.loc[:,\"Returns\"]\n",
    "avgPosReturns = avgPosReturns.loc[avgPosReturns>0]\n",
    "avgPosReturns = avgPosReturns.mean()\n",
    "avgPosReturns"
   ]
  },
  {
   "cell_type": "code",
   "execution_count": 108,
   "metadata": {},
   "outputs": [
    {
     "data": {
      "text/plain": [
       "0.0"
      ]
     },
     "execution_count": 108,
     "metadata": {},
     "output_type": "execute_result"
    }
   ],
   "source": [
    "#Get the average of return that is zero\n",
    "avgZeroReturns = GSPCdf.loc[:,\"Returns\"]\n",
    "avgZeroReturns = avgZeroReturns.loc[avgZeroReturns==0]\n",
    "avgZeroReturns = avgZeroReturns.mean()\n",
    "avgZeroReturns"
   ]
  },
  {
   "cell_type": "code",
   "execution_count": 109,
   "metadata": {
    "scrolled": true
   },
   "outputs": [
    {
     "data": {
      "text/plain": [
       "6006"
      ]
     },
     "execution_count": 109,
     "metadata": {},
     "output_type": "execute_result"
    }
   ],
   "source": [
    "#Get the count of negative and positive returns\n",
    "NegReturns = len(GSPCdfReturn.loc[(GSPCdfReturn.Returns < 0)])\n",
    "NegReturns"
   ]
  },
  {
   "cell_type": "code",
   "execution_count": 110,
   "metadata": {},
   "outputs": [
    {
     "data": {
      "text/plain": [
       "6707"
      ]
     },
     "execution_count": 110,
     "metadata": {},
     "output_type": "execute_result"
    }
   ],
   "source": [
    "PosReturns = len(GSPCdfReturn.loc[(GSPCdfReturn.Returns > 0)])\n",
    "PosReturns"
   ]
  },
  {
   "cell_type": "code",
   "execution_count": 111,
   "metadata": {},
   "outputs": [
    {
     "data": {
      "text/plain": [
       "90"
      ]
     },
     "execution_count": 111,
     "metadata": {},
     "output_type": "execute_result"
    }
   ],
   "source": [
    "ZeroReturns = len(GSPCdfReturn.loc[(GSPCdfReturn.Returns == 0)])\n",
    "ZeroReturns"
   ]
  },
  {
   "cell_type": "code",
   "execution_count": 112,
   "metadata": {},
   "outputs": [
    {
     "data": {
      "text/plain": [
       "52.386159493868625"
      ]
     },
     "execution_count": 112,
     "metadata": {},
     "output_type": "execute_result"
    }
   ],
   "source": [
    "ReturnCount = GSPCdfReturn[\"Returns\"].count()\n",
    "PosReturnsPer = PosReturns/ReturnCount*100\n",
    "PosReturnsPer"
   ]
  },
  {
   "cell_type": "code",
   "execution_count": 113,
   "metadata": {},
   "outputs": [
    {
     "data": {
      "text/plain": [
       "46.91088026243849"
      ]
     },
     "execution_count": 113,
     "metadata": {},
     "output_type": "execute_result"
    }
   ],
   "source": [
    "NegReturnPer = NegReturns/ReturnCount*100\n",
    "NegReturnPer"
   ]
  },
  {
   "cell_type": "code",
   "execution_count": 114,
   "metadata": {},
   "outputs": [
    {
     "data": {
      "text/plain": [
       "0.7029602436928845"
      ]
     },
     "execution_count": 114,
     "metadata": {},
     "output_type": "execute_result"
    }
   ],
   "source": [
    "ZeroReturns = ZeroReturns/ReturnCount*100\n",
    "ZeroReturns"
   ]
  },
  {
   "cell_type": "code",
   "execution_count": 122,
   "metadata": {},
   "outputs": [
    {
     "data": {
      "text/plain": [
       "0.3540864277837085"
      ]
     },
     "execution_count": 122,
     "metadata": {},
     "output_type": "execute_result"
    }
   ],
   "source": [
    "TotalAvgPosReturns = avgPosReturns*PosReturnsPer\n",
    "TotalAvgPosReturns"
   ]
  },
  {
   "cell_type": "code",
   "execution_count": 123,
   "metadata": {},
   "outputs": [
    {
     "data": {
      "text/plain": [
       "-0.3249887447814195"
      ]
     },
     "execution_count": 123,
     "metadata": {},
     "output_type": "execute_result"
    }
   ],
   "source": [
    "TotalAvgNegReturns = avgNegReturns*NegReturnPer\n",
    "TotalAvgNegReturns"
   ]
  },
  {
   "cell_type": "code",
   "execution_count": 115,
   "metadata": {},
   "outputs": [
    {
     "data": {
      "text/html": [
       "<div>\n",
       "<style scoped>\n",
       "    .dataframe tbody tr th:only-of-type {\n",
       "        vertical-align: middle;\n",
       "    }\n",
       "\n",
       "    .dataframe tbody tr th {\n",
       "        vertical-align: top;\n",
       "    }\n",
       "\n",
       "    .dataframe thead th {\n",
       "        text-align: right;\n",
       "    }\n",
       "</style>\n",
       "<table border=\"1\" class=\"dataframe\">\n",
       "  <thead>\n",
       "    <tr style=\"text-align: right;\">\n",
       "      <th></th>\n",
       "      <th>Return % Bins</th>\n",
       "      <th>Returns</th>\n",
       "      <th>Return Frequency (%)</th>\n",
       "    </tr>\n",
       "  </thead>\n",
       "  <tbody>\n",
       "    <tr>\n",
       "      <th>0</th>\n",
       "      <td>-0.025 to -0.02</td>\n",
       "      <td>140</td>\n",
       "      <td>1.09</td>\n",
       "    </tr>\n",
       "    <tr>\n",
       "      <th>1</th>\n",
       "      <td>-0.02 to -0.015</td>\n",
       "      <td>345</td>\n",
       "      <td>2.69</td>\n",
       "    </tr>\n",
       "    <tr>\n",
       "      <th>2</th>\n",
       "      <td>-0.015 to -0.01</td>\n",
       "      <td>722</td>\n",
       "      <td>5.64</td>\n",
       "    </tr>\n",
       "    <tr>\n",
       "      <th>3</th>\n",
       "      <td>-0.01 to -0.005</td>\n",
       "      <td>1581</td>\n",
       "      <td>12.35</td>\n",
       "    </tr>\n",
       "    <tr>\n",
       "      <th>4</th>\n",
       "      <td>-0.005 to 0</td>\n",
       "      <td>3163</td>\n",
       "      <td>24.71</td>\n",
       "    </tr>\n",
       "    <tr>\n",
       "      <th>5</th>\n",
       "      <td>0 to 0.005</td>\n",
       "      <td>3473</td>\n",
       "      <td>27.13</td>\n",
       "    </tr>\n",
       "    <tr>\n",
       "      <th>6</th>\n",
       "      <td>0.005 to 0.01</td>\n",
       "      <td>1823</td>\n",
       "      <td>14.24</td>\n",
       "    </tr>\n",
       "    <tr>\n",
       "      <th>7</th>\n",
       "      <td>0.01 to 0.015</td>\n",
       "      <td>763</td>\n",
       "      <td>5.96</td>\n",
       "    </tr>\n",
       "    <tr>\n",
       "      <th>8</th>\n",
       "      <td>0.015 to 0.02</td>\n",
       "      <td>341</td>\n",
       "      <td>2.66</td>\n",
       "    </tr>\n",
       "    <tr>\n",
       "      <th>9</th>\n",
       "      <td>0.02 to 0.025</td>\n",
       "      <td>152</td>\n",
       "      <td>1.19</td>\n",
       "    </tr>\n",
       "  </tbody>\n",
       "</table>\n",
       "</div>"
      ],
      "text/plain": [
       "     Return % Bins  Returns  Return Frequency (%)\n",
       "0  -0.025 to -0.02      140                  1.09\n",
       "1  -0.02 to -0.015      345                  2.69\n",
       "2  -0.015 to -0.01      722                  5.64\n",
       "3  -0.01 to -0.005     1581                 12.35\n",
       "4      -0.005 to 0     3163                 24.71\n",
       "5       0 to 0.005     3473                 27.13\n",
       "6    0.005 to 0.01     1823                 14.24\n",
       "7    0.01 to 0.015      763                  5.96\n",
       "8    0.015 to 0.02      341                  2.66\n",
       "9    0.02 to 0.025      152                  1.19"
      ]
     },
     "execution_count": 115,
     "metadata": {},
     "output_type": "execute_result"
    }
   ],
   "source": [
    "GSPCgrp = GSPCdfReturn.groupby(\"Return % Bins\")\n",
    "GSPCgrpCount = GSPCgrp.count() #I count how many times the Percentage returns appear in the data set\n",
    "GSPCgrpCount = GSPCgrpCount.reset_index() #I reset the index to numbers\n",
    "GSPCgrpCount[\"Return Frequency (%)\"] = GSPCgrpCount[\"Returns\"]/Rtcount*100\n",
    "GSPCgrpCount = GSPCgrpCount.round(2)\n",
    "GSPCgrpCount"
   ]
  },
  {
   "cell_type": "code",
   "execution_count": 116,
   "metadata": {},
   "outputs": [
    {
     "data": {
      "text/plain": [
       "0.02909768300228724"
      ]
     },
     "execution_count": 116,
     "metadata": {},
     "output_type": "execute_result"
    }
   ],
   "source": [
    "Return_mean = GSPCdf[\"Returns\"].mean()*100\n",
    "Return_mean"
   ]
  },
  {
   "cell_type": "code",
   "execution_count": 117,
   "metadata": {
    "scrolled": true
   },
   "outputs": [
    {
     "data": {
      "text/plain": [
       "0        0.001670\n",
       "1       -0.012205\n",
       "2       -0.023623\n",
       "3        0.007853\n",
       "4        0.002291\n",
       "5       -0.009379\n",
       "6        0.010898\n",
       "7        0.000829\n",
       "8       -0.000729\n",
       "9        0.002291\n",
       "10      -0.003149\n",
       "11      -0.014389\n",
       "12       0.000419\n",
       "13      -0.016571\n",
       "14      -0.002464\n",
       "15       0.004600\n",
       "16       0.010144\n",
       "17       0.007965\n",
       "18      -0.002966\n",
       "19       0.000014\n",
       "20      -0.006188\n",
       "21      -0.009905\n",
       "22      -0.003457\n",
       "23      -0.000322\n",
       "24       0.007112\n",
       "25       0.003416\n",
       "26       0.000526\n",
       "27       0.002491\n",
       "28      -0.004464\n",
       "29       0.009621\n",
       "           ...   \n",
       "12773   -0.000142\n",
       "12774   -0.000284\n",
       "12775   -0.001417\n",
       "12776    0.002272\n",
       "12777    0.006575\n",
       "12778    0.001145\n",
       "12779    0.001003\n",
       "12780    0.007941\n",
       "12781    0.006101\n",
       "12782    0.009828\n",
       "12783    0.003976\n",
       "12784   -0.003376\n",
       "12785   -0.003219\n",
       "12786   -0.000731\n",
       "12787    0.001611\n",
       "12788   -0.007557\n",
       "12789    0.000873\n",
       "12790    0.005264\n",
       "12791    0.001025\n",
       "12792   -0.010859\n",
       "12793   -0.005758\n",
       "12794   -0.002011\n",
       "12795    0.003460\n",
       "12796    0.005945\n",
       "12797   -0.002748\n",
       "12798    0.000434\n",
       "12799   -0.007752\n",
       "12800   -0.013873\n",
       "12801   -0.006889\n",
       "12802    0.002396\n",
       "Name: Returns, Length: 12803, dtype: float64"
      ]
     },
     "execution_count": 117,
     "metadata": {},
     "output_type": "execute_result"
    }
   ],
   "source": [
    "histReturns = GSPCdf[\"Returns\"]\n",
    "histReturns"
   ]
  },
  {
   "cell_type": "markdown",
   "metadata": {},
   "source": [
    "# make the line plot of the stock prices over time\n",
    "stockPrice = sns.lineplot(x=\"Date\", y=\"Close\", data=GSPCdf)\n",
    "stockPrice = sns.regplot(x=\"Date\", y=\"Close\", data=GSPCdf)\n",
    "stockPrice.show()"
   ]
  },
  {
   "cell_type": "code",
   "execution_count": 118,
   "metadata": {},
   "outputs": [],
   "source": [
    "#make the line plot using matplotlib\n",
    "#fig = plt.figure()\n",
    "#fig = plt.plot(\"Date\", \"Close\", data=GSPCdf)\n",
    "#fig = plt.xlabel='time (d)'\n",
    "#fig = plt.ylabel='Close Price'\n",
    "#fig = plt.title='Stock price over time'\n",
    "#plt.show()"
   ]
  },
  {
   "cell_type": "code",
   "execution_count": 119,
   "metadata": {},
   "outputs": [],
   "source": [
    "#trying to make the linear regression plot with seaborne\n"
   ]
  },
  {
   "cell_type": "code",
   "execution_count": 120,
   "metadata": {},
   "outputs": [],
   "source": [
    "#make the histogram plot\n",
    "#_ = plt.hist(histReturns, bins=Bins, density=1, facecolor='g', alpha=0.75)\n",
    "#plt.xlabel('% Change')\n",
    "#plt.ylabel('Frequency')\n",
    "#plt.title('Histogram of % of daily Returns over two years for GSPC')\n",
    "#plt.axis([-0.03, 0.03, 0, 60])\n",
    "#plt.grid(True)\n",
    "#plt.show()"
   ]
  }
 ],
 "metadata": {
  "kernelspec": {
   "display_name": "Python 3",
   "language": "python",
   "name": "python3"
  },
  "language_info": {
   "codemirror_mode": {
    "name": "ipython",
    "version": 3
   },
   "file_extension": ".py",
   "mimetype": "text/x-python",
   "name": "python",
   "nbconvert_exporter": "python",
   "pygments_lexer": "ipython3",
   "version": "3.7.3"
  }
 },
 "nbformat": 4,
 "nbformat_minor": 2
}
