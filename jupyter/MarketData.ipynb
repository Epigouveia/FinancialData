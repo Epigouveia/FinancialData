{
 "cells": [
  {
   "cell_type": "code",
   "execution_count": 12,
   "metadata": {},
   "outputs": [],
   "source": [
    "import datetime as dt\n",
    "import matplotlib.pyplot as plt\n",
    "from matplotlib import style\n",
    "import pandas as pd\n",
    "import pandas_datareader.data as web\n",
    "import numpy as np\n",
    "\n",
    "style.use(\"ggplot\")"
   ]
  },
  {
   "cell_type": "code",
   "execution_count": 13,
   "metadata": {
    "scrolled": false
   },
   "outputs": [
    {
     "name": "stdout",
     "output_type": "stream",
     "text": [
      "                   High          Low         Open        Close      Volume  \\\n",
      "Date                                                                         \n",
      "2012-11-05  1419.900024  1408.130005  1414.020020  1417.260010  2921040000   \n",
      "2012-11-06  1433.380005  1417.260010  1417.260010  1428.390015  3306970000   \n",
      "2012-11-07  1428.270020  1388.140015  1428.270020  1394.530029  4356490000   \n",
      "2012-11-08  1401.229980  1377.510010  1394.530029  1377.510010  3779520000   \n",
      "2012-11-09  1391.390015  1373.030029  1377.550049  1379.849976  3647350000   \n",
      "\n",
      "              Adj Close  \n",
      "Date                     \n",
      "2012-11-05  1417.260010  \n",
      "2012-11-06  1428.390015  \n",
      "2012-11-07  1394.530029  \n",
      "2012-11-08  1377.510010  \n",
      "2012-11-09  1379.849976  \n"
     ]
    }
   ],
   "source": [
    "start = dt.datetime(1962, 1, 3)\n",
    "end = dt.datetime(2012, 11, 9)\n",
    "\n",
    "df = web.DataReader(\"^GSPC\", \"yahoo\", start, end)\n",
    "print(df.tail())"
   ]
  },
  {
   "cell_type": "code",
   "execution_count": 14,
   "metadata": {},
   "outputs": [],
   "source": [
    "pd.DataFrame(df).to_csv(\"^GSPC_jupyter.csv\")"
   ]
  },
  {
   "cell_type": "code",
   "execution_count": 15,
   "metadata": {},
   "outputs": [
    {
     "data": {
      "text/plain": [
       "pandas.core.frame.DataFrame"
      ]
     },
     "execution_count": 15,
     "metadata": {},
     "output_type": "execute_result"
    }
   ],
   "source": [
    "type(df) # This was that the df is a dataframe type\n"
   ]
  },
  {
   "cell_type": "code",
   "execution_count": 16,
   "metadata": {
    "scrolled": true
   },
   "outputs": [
    {
     "data": {
      "text/html": [
       "<div>\n",
       "<style scoped>\n",
       "    .dataframe tbody tr th:only-of-type {\n",
       "        vertical-align: middle;\n",
       "    }\n",
       "\n",
       "    .dataframe tbody tr th {\n",
       "        vertical-align: top;\n",
       "    }\n",
       "\n",
       "    .dataframe thead th {\n",
       "        text-align: right;\n",
       "    }\n",
       "</style>\n",
       "<table border=\"1\" class=\"dataframe\">\n",
       "  <thead>\n",
       "    <tr style=\"text-align: right;\">\n",
       "      <th></th>\n",
       "      <th>Date</th>\n",
       "      <th>High</th>\n",
       "      <th>Low</th>\n",
       "      <th>Open</th>\n",
       "      <th>Close</th>\n",
       "      <th>Volume</th>\n",
       "      <th>Adj Close</th>\n",
       "    </tr>\n",
       "  </thead>\n",
       "  <tbody>\n",
       "    <tr>\n",
       "      <th>0</th>\n",
       "      <td>1962-01-02</td>\n",
       "      <td>71.959999</td>\n",
       "      <td>70.709999</td>\n",
       "      <td>71.550003</td>\n",
       "      <td>70.959999</td>\n",
       "      <td>3120000</td>\n",
       "      <td>70.959999</td>\n",
       "    </tr>\n",
       "    <tr>\n",
       "      <th>1</th>\n",
       "      <td>1962-01-03</td>\n",
       "      <td>71.480003</td>\n",
       "      <td>70.379997</td>\n",
       "      <td>70.959999</td>\n",
       "      <td>71.129997</td>\n",
       "      <td>3590000</td>\n",
       "      <td>71.129997</td>\n",
       "    </tr>\n",
       "    <tr>\n",
       "      <th>2</th>\n",
       "      <td>1962-01-04</td>\n",
       "      <td>71.620003</td>\n",
       "      <td>70.449997</td>\n",
       "      <td>71.129997</td>\n",
       "      <td>70.639999</td>\n",
       "      <td>4450000</td>\n",
       "      <td>70.639999</td>\n",
       "    </tr>\n",
       "    <tr>\n",
       "      <th>3</th>\n",
       "      <td>1962-01-05</td>\n",
       "      <td>70.839996</td>\n",
       "      <td>69.349998</td>\n",
       "      <td>70.639999</td>\n",
       "      <td>69.660004</td>\n",
       "      <td>4630000</td>\n",
       "      <td>69.660004</td>\n",
       "    </tr>\n",
       "    <tr>\n",
       "      <th>4</th>\n",
       "      <td>1962-01-08</td>\n",
       "      <td>69.839996</td>\n",
       "      <td>68.169998</td>\n",
       "      <td>69.660004</td>\n",
       "      <td>69.120003</td>\n",
       "      <td>4620000</td>\n",
       "      <td>69.120003</td>\n",
       "    </tr>\n",
       "  </tbody>\n",
       "</table>\n",
       "</div>"
      ],
      "text/plain": [
       "         Date       High        Low       Open      Close   Volume  Adj Close\n",
       "0  1962-01-02  71.959999  70.709999  71.550003  70.959999  3120000  70.959999\n",
       "1  1962-01-03  71.480003  70.379997  70.959999  71.129997  3590000  71.129997\n",
       "2  1962-01-04  71.620003  70.449997  71.129997  70.639999  4450000  70.639999\n",
       "3  1962-01-05  70.839996  69.349998  70.639999  69.660004  4630000  69.660004\n",
       "4  1962-01-08  69.839996  68.169998  69.660004  69.120003  4620000  69.120003"
      ]
     },
     "execution_count": 16,
     "metadata": {},
     "output_type": "execute_result"
    }
   ],
   "source": [
    "GSPCdf = pd.read_csv(\"^GSPC_jupyter.csv\")\n",
    "GSPCdf.head()"
   ]
  },
  {
   "cell_type": "code",
   "execution_count": 17,
   "metadata": {},
   "outputs": [
    {
     "data": {
      "text/html": [
       "<div>\n",
       "<style scoped>\n",
       "    .dataframe tbody tr th:only-of-type {\n",
       "        vertical-align: middle;\n",
       "    }\n",
       "\n",
       "    .dataframe tbody tr th {\n",
       "        vertical-align: top;\n",
       "    }\n",
       "\n",
       "    .dataframe thead th {\n",
       "        text-align: right;\n",
       "    }\n",
       "</style>\n",
       "<table border=\"1\" class=\"dataframe\">\n",
       "  <thead>\n",
       "    <tr style=\"text-align: right;\">\n",
       "      <th></th>\n",
       "      <th>Date</th>\n",
       "      <th>High</th>\n",
       "      <th>Low</th>\n",
       "      <th>Open</th>\n",
       "      <th>Close</th>\n",
       "      <th>Volume</th>\n",
       "      <th>Adj Close</th>\n",
       "      <th>Returns</th>\n",
       "    </tr>\n",
       "  </thead>\n",
       "  <tbody>\n",
       "    <tr>\n",
       "      <th>0</th>\n",
       "      <td>1962-01-02</td>\n",
       "      <td>71.959999</td>\n",
       "      <td>70.709999</td>\n",
       "      <td>71.550003</td>\n",
       "      <td>70.959999</td>\n",
       "      <td>3120000</td>\n",
       "      <td>70.959999</td>\n",
       "      <td>-0.008246</td>\n",
       "    </tr>\n",
       "    <tr>\n",
       "      <th>1</th>\n",
       "      <td>1962-01-03</td>\n",
       "      <td>71.480003</td>\n",
       "      <td>70.379997</td>\n",
       "      <td>70.959999</td>\n",
       "      <td>71.129997</td>\n",
       "      <td>3590000</td>\n",
       "      <td>71.129997</td>\n",
       "      <td>0.002396</td>\n",
       "    </tr>\n",
       "    <tr>\n",
       "      <th>2</th>\n",
       "      <td>1962-01-04</td>\n",
       "      <td>71.620003</td>\n",
       "      <td>70.449997</td>\n",
       "      <td>71.129997</td>\n",
       "      <td>70.639999</td>\n",
       "      <td>4450000</td>\n",
       "      <td>70.639999</td>\n",
       "      <td>-0.006889</td>\n",
       "    </tr>\n",
       "    <tr>\n",
       "      <th>3</th>\n",
       "      <td>1962-01-05</td>\n",
       "      <td>70.839996</td>\n",
       "      <td>69.349998</td>\n",
       "      <td>70.639999</td>\n",
       "      <td>69.660004</td>\n",
       "      <td>4630000</td>\n",
       "      <td>69.660004</td>\n",
       "      <td>-0.013873</td>\n",
       "    </tr>\n",
       "    <tr>\n",
       "      <th>4</th>\n",
       "      <td>1962-01-08</td>\n",
       "      <td>69.839996</td>\n",
       "      <td>68.169998</td>\n",
       "      <td>69.660004</td>\n",
       "      <td>69.120003</td>\n",
       "      <td>4620000</td>\n",
       "      <td>69.120003</td>\n",
       "      <td>-0.007752</td>\n",
       "    </tr>\n",
       "  </tbody>\n",
       "</table>\n",
       "</div>"
      ],
      "text/plain": [
       "         Date       High        Low       Open      Close   Volume  Adj Close  \\\n",
       "0  1962-01-02  71.959999  70.709999  71.550003  70.959999  3120000  70.959999   \n",
       "1  1962-01-03  71.480003  70.379997  70.959999  71.129997  3590000  71.129997   \n",
       "2  1962-01-04  71.620003  70.449997  71.129997  70.639999  4450000  70.639999   \n",
       "3  1962-01-05  70.839996  69.349998  70.639999  69.660004  4630000  69.660004   \n",
       "4  1962-01-08  69.839996  68.169998  69.660004  69.120003  4620000  69.120003   \n",
       "\n",
       "    Returns  \n",
       "0 -0.008246  \n",
       "1  0.002396  \n",
       "2 -0.006889  \n",
       "3 -0.013873  \n",
       "4 -0.007752  "
      ]
     },
     "execution_count": 17,
     "metadata": {},
     "output_type": "execute_result"
    }
   ],
   "source": [
    "GSPCdf = GSPCdf.assign(Returns = ((GSPCdf.Close - GSPCdf.Open) / GSPCdf.Open))\n",
    "GSPCdf.head()"
   ]
  },
  {
   "cell_type": "code",
   "execution_count": 18,
   "metadata": {},
   "outputs": [
    {
     "name": "stdout",
     "output_type": "stream",
     "text": [
      "   Intervals\n",
      "0     -0.020\n",
      "1     -0.015\n",
      "2     -0.010\n",
      "3     -0.005\n",
      "4      0.000\n",
      "5      0.005\n",
      "6      0.010\n",
      "7      0.015\n",
      "8      0.020\n"
     ]
    }
   ],
   "source": [
    "#Now to create the intervals table\n",
    "intervals = pd.DataFrame(\n",
    "{\"Intervals\": [-0.02, -0.015, -0.01, -0.005, 0, 0.005, 0.01, 0.015, 0.02]}\n",
    ")\n",
    "print(intervals)"
   ]
  },
  {
   "cell_type": "code",
   "execution_count": 26,
   "metadata": {},
   "outputs": [
    {
     "ename": "IndentationError",
     "evalue": "unexpected indent (<ipython-input-26-0dffdc0b8336>, line 9)",
     "output_type": "error",
     "traceback": [
      "\u001b[0;36m  File \u001b[0;32m\"<ipython-input-26-0dffdc0b8336>\"\u001b[0;36m, line \u001b[0;32m9\u001b[0m\n\u001b[0;31m    np.sign(), rownames=[\"returns\"],\u001b[0m\n\u001b[0m    ^\u001b[0m\n\u001b[0;31mIndentationError\u001b[0m\u001b[0;31m:\u001b[0m unexpected indent\n"
     ]
    }
   ],
   "source": [
    "# Make a frequency table for the return values\n",
    "#returnsfqTb = GSPCdf.Returns.apply(pd.Series.value_counts, bins=[-0.02, -0.015, -0.01, -0.005, 0, 0.005, 0.01, 0.015, 0.0])\n",
    "#returnsfqTb = pd.DataFrame(returnsfqTb)\n",
    "#returnsfqTb\n",
    "#table = crosstab(np.digitize(np.abs(arr), buckets),\n",
    " #  ....:                  np.sign(arr), rownames=['bucket'],\n",
    "  # ....:                  colnames=['sign'])\n",
    "#returnfqTb1 = pd.crosstab(np.digitize(np.abs(), intervals),\n",
    "                      np.sign(), rownames=[\"returns\"],\n",
    "                      colnames=[\"sign\"])"
   ]
  },
  {
   "cell_type": "code",
   "execution_count": null,
   "metadata": {},
   "outputs": [],
   "source": []
  }
 ],
 "metadata": {
  "kernelspec": {
   "display_name": "Python 3",
   "language": "python",
   "name": "python3"
  },
  "language_info": {
   "codemirror_mode": {
    "name": "ipython",
    "version": 3
   },
   "file_extension": ".py",
   "mimetype": "text/x-python",
   "name": "python",
   "nbconvert_exporter": "python",
   "pygments_lexer": "ipython3",
   "version": "3.7.3"
  }
 },
 "nbformat": 4,
 "nbformat_minor": 2
}
