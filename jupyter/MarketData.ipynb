{
 "cells": [
  {
   "cell_type": "code",
   "execution_count": 13,
   "metadata": {},
   "outputs": [],
   "source": [
    "import datetime as dt\n",
    "import matplotlib.pyplot as plt\n",
    "from matplotlib import style\n",
    "import pandas as pd\n",
    "import pandas_datareader.data as web\n",
    "import numpy as np\n",
    "import seaborn as sns\n",
    "\n",
    "style.use(\"ggplot\")\n",
    "\n",
    "%matplotlib inline"
   ]
  },
  {
   "cell_type": "code",
   "execution_count": 14,
   "metadata": {
    "scrolled": false
   },
   "outputs": [],
   "source": [
    "#I only have to do this once. Then I just save the data as a csv file and read it in.\n",
    "#start = dt.datetime(1962, 1, 3)\n",
    "#end = dt.datetime(2012, 11, 9)\n",
    "\n",
    "#df = web.DataReader(\"^GSPC\", \"yahoo\", start, end)\n",
    "#print(df.head())"
   ]
  },
  {
   "cell_type": "code",
   "execution_count": 15,
   "metadata": {},
   "outputs": [],
   "source": [
    "#here I add a smaller version of the data so it is not so heavy on the computer to work with as I find \n",
    "# many times crashing the python environment\n",
    "#start = dt.datetime(2010, 1, 3)\n",
    "#end = dt.datetime(2012, 11, 9)\n",
    "\n",
    "#df = web.DataReader(\"^GSPC\", \"yahoo\", start, end)\n",
    "#print(df.tail())"
   ]
  },
  {
   "cell_type": "code",
   "execution_count": 16,
   "metadata": {},
   "outputs": [],
   "source": [
    "#pd.DataFrame(df).to_csv(\"^GSPC_jupyter.csv\")"
   ]
  },
  {
   "cell_type": "code",
   "execution_count": 17,
   "metadata": {},
   "outputs": [],
   "source": [
    "#type(df) # This was that the df is a dataframe type\n"
   ]
  },
  {
   "cell_type": "code",
   "execution_count": 18,
   "metadata": {
    "scrolled": true
   },
   "outputs": [
    {
     "data": {
      "text/html": [
       "<div>\n",
       "<style scoped>\n",
       "    .dataframe tbody tr th:only-of-type {\n",
       "        vertical-align: middle;\n",
       "    }\n",
       "\n",
       "    .dataframe tbody tr th {\n",
       "        vertical-align: top;\n",
       "    }\n",
       "\n",
       "    .dataframe thead th {\n",
       "        text-align: right;\n",
       "    }\n",
       "</style>\n",
       "<table border=\"1\" class=\"dataframe\">\n",
       "  <thead>\n",
       "    <tr style=\"text-align: right;\">\n",
       "      <th></th>\n",
       "      <th>Date</th>\n",
       "      <th>Open</th>\n",
       "      <th>High</th>\n",
       "      <th>Low</th>\n",
       "      <th>Close</th>\n",
       "      <th>Volume</th>\n",
       "      <th>Adj Close</th>\n",
       "    </tr>\n",
       "  </thead>\n",
       "  <tbody>\n",
       "    <tr>\n",
       "      <th>0</th>\n",
       "      <td>11/9/2012</td>\n",
       "      <td>1377.55</td>\n",
       "      <td>1391.39</td>\n",
       "      <td>1373.03</td>\n",
       "      <td>1379.85</td>\n",
       "      <td>3647350000</td>\n",
       "      <td>1379.85</td>\n",
       "    </tr>\n",
       "    <tr>\n",
       "      <th>1</th>\n",
       "      <td>11/8/2012</td>\n",
       "      <td>1394.53</td>\n",
       "      <td>1401.23</td>\n",
       "      <td>1377.51</td>\n",
       "      <td>1377.51</td>\n",
       "      <td>3779520000</td>\n",
       "      <td>1377.51</td>\n",
       "    </tr>\n",
       "    <tr>\n",
       "      <th>2</th>\n",
       "      <td>11/7/2012</td>\n",
       "      <td>1428.27</td>\n",
       "      <td>1428.27</td>\n",
       "      <td>1388.14</td>\n",
       "      <td>1394.53</td>\n",
       "      <td>4356490000</td>\n",
       "      <td>1394.53</td>\n",
       "    </tr>\n",
       "    <tr>\n",
       "      <th>3</th>\n",
       "      <td>11/6/2012</td>\n",
       "      <td>1417.26</td>\n",
       "      <td>1433.38</td>\n",
       "      <td>1417.26</td>\n",
       "      <td>1428.39</td>\n",
       "      <td>3306970000</td>\n",
       "      <td>1428.39</td>\n",
       "    </tr>\n",
       "    <tr>\n",
       "      <th>4</th>\n",
       "      <td>11/5/2012</td>\n",
       "      <td>1414.02</td>\n",
       "      <td>1419.90</td>\n",
       "      <td>1408.13</td>\n",
       "      <td>1417.26</td>\n",
       "      <td>2921040000</td>\n",
       "      <td>1417.26</td>\n",
       "    </tr>\n",
       "  </tbody>\n",
       "</table>\n",
       "</div>"
      ],
      "text/plain": [
       "        Date     Open     High      Low    Close      Volume  Adj Close\n",
       "0  11/9/2012  1377.55  1391.39  1373.03  1379.85  3647350000    1379.85\n",
       "1  11/8/2012  1394.53  1401.23  1377.51  1377.51  3779520000    1377.51\n",
       "2  11/7/2012  1428.27  1428.27  1388.14  1394.53  4356490000    1394.53\n",
       "3  11/6/2012  1417.26  1433.38  1417.26  1428.39  3306970000    1428.39\n",
       "4  11/5/2012  1414.02  1419.90  1408.13  1417.26  2921040000    1417.26"
      ]
     },
     "execution_count": 18,
     "metadata": {},
     "output_type": "execute_result"
    }
   ],
   "source": [
    "GSPC = pd.read_csv(\"SHORT_GSPC_Data.csv\")\n",
    "GSPCdf = pd.DataFrame(GSPC)\n",
    "GSPCdf.head()"
   ]
  },
  {
   "cell_type": "code",
   "execution_count": 19,
   "metadata": {
    "scrolled": true
   },
   "outputs": [
    {
     "data": {
      "text/html": [
       "<div>\n",
       "<style scoped>\n",
       "    .dataframe tbody tr th:only-of-type {\n",
       "        vertical-align: middle;\n",
       "    }\n",
       "\n",
       "    .dataframe tbody tr th {\n",
       "        vertical-align: top;\n",
       "    }\n",
       "\n",
       "    .dataframe thead th {\n",
       "        text-align: right;\n",
       "    }\n",
       "</style>\n",
       "<table border=\"1\" class=\"dataframe\">\n",
       "  <thead>\n",
       "    <tr style=\"text-align: right;\">\n",
       "      <th></th>\n",
       "      <th>Date</th>\n",
       "      <th>Open</th>\n",
       "      <th>High</th>\n",
       "      <th>Low</th>\n",
       "      <th>Close</th>\n",
       "      <th>Volume</th>\n",
       "      <th>Adj Close</th>\n",
       "      <th>Returns</th>\n",
       "    </tr>\n",
       "  </thead>\n",
       "  <tbody>\n",
       "    <tr>\n",
       "      <th>0</th>\n",
       "      <td>11/9/2012</td>\n",
       "      <td>1377.55</td>\n",
       "      <td>1391.39</td>\n",
       "      <td>1373.03</td>\n",
       "      <td>1379.85</td>\n",
       "      <td>3647350000</td>\n",
       "      <td>1379.85</td>\n",
       "      <td>0.001670</td>\n",
       "    </tr>\n",
       "    <tr>\n",
       "      <th>1</th>\n",
       "      <td>11/8/2012</td>\n",
       "      <td>1394.53</td>\n",
       "      <td>1401.23</td>\n",
       "      <td>1377.51</td>\n",
       "      <td>1377.51</td>\n",
       "      <td>3779520000</td>\n",
       "      <td>1377.51</td>\n",
       "      <td>-0.012205</td>\n",
       "    </tr>\n",
       "    <tr>\n",
       "      <th>2</th>\n",
       "      <td>11/7/2012</td>\n",
       "      <td>1428.27</td>\n",
       "      <td>1428.27</td>\n",
       "      <td>1388.14</td>\n",
       "      <td>1394.53</td>\n",
       "      <td>4356490000</td>\n",
       "      <td>1394.53</td>\n",
       "      <td>-0.023623</td>\n",
       "    </tr>\n",
       "    <tr>\n",
       "      <th>3</th>\n",
       "      <td>11/6/2012</td>\n",
       "      <td>1417.26</td>\n",
       "      <td>1433.38</td>\n",
       "      <td>1417.26</td>\n",
       "      <td>1428.39</td>\n",
       "      <td>3306970000</td>\n",
       "      <td>1428.39</td>\n",
       "      <td>0.007853</td>\n",
       "    </tr>\n",
       "    <tr>\n",
       "      <th>4</th>\n",
       "      <td>11/5/2012</td>\n",
       "      <td>1414.02</td>\n",
       "      <td>1419.90</td>\n",
       "      <td>1408.13</td>\n",
       "      <td>1417.26</td>\n",
       "      <td>2921040000</td>\n",
       "      <td>1417.26</td>\n",
       "      <td>0.002291</td>\n",
       "    </tr>\n",
       "  </tbody>\n",
       "</table>\n",
       "</div>"
      ],
      "text/plain": [
       "        Date     Open     High      Low    Close      Volume  Adj Close  \\\n",
       "0  11/9/2012  1377.55  1391.39  1373.03  1379.85  3647350000    1379.85   \n",
       "1  11/8/2012  1394.53  1401.23  1377.51  1377.51  3779520000    1377.51   \n",
       "2  11/7/2012  1428.27  1428.27  1388.14  1394.53  4356490000    1394.53   \n",
       "3  11/6/2012  1417.26  1433.38  1417.26  1428.39  3306970000    1428.39   \n",
       "4  11/5/2012  1414.02  1419.90  1408.13  1417.26  2921040000    1417.26   \n",
       "\n",
       "    Returns  \n",
       "0  0.001670  \n",
       "1 -0.012205  \n",
       "2 -0.023623  \n",
       "3  0.007853  \n",
       "4  0.002291  "
      ]
     },
     "execution_count": 19,
     "metadata": {},
     "output_type": "execute_result"
    }
   ],
   "source": [
    "GSPCdf[\"Returns\"] = (GSPCdf.Close - GSPCdf.Open) / GSPCdf.Open\n",
    "GSPCdf.head()"
   ]
  },
  {
   "cell_type": "code",
   "execution_count": 20,
   "metadata": {
    "scrolled": true
   },
   "outputs": [
    {
     "data": {
      "text/html": [
       "<div>\n",
       "<style scoped>\n",
       "    .dataframe tbody tr th:only-of-type {\n",
       "        vertical-align: middle;\n",
       "    }\n",
       "\n",
       "    .dataframe tbody tr th {\n",
       "        vertical-align: top;\n",
       "    }\n",
       "\n",
       "    .dataframe thead th {\n",
       "        text-align: right;\n",
       "    }\n",
       "</style>\n",
       "<table border=\"1\" class=\"dataframe\">\n",
       "  <thead>\n",
       "    <tr style=\"text-align: right;\">\n",
       "      <th></th>\n",
       "      <th>Open</th>\n",
       "      <th>High</th>\n",
       "      <th>Low</th>\n",
       "      <th>Close</th>\n",
       "      <th>Volume</th>\n",
       "      <th>Adj Close</th>\n",
       "      <th>Returns</th>\n",
       "    </tr>\n",
       "  </thead>\n",
       "  <tbody>\n",
       "    <tr>\n",
       "      <th>count</th>\n",
       "      <td>468.000000</td>\n",
       "      <td>468.000000</td>\n",
       "      <td>468.000000</td>\n",
       "      <td>468.000000</td>\n",
       "      <td>4.680000e+02</td>\n",
       "      <td>468.000000</td>\n",
       "      <td>468.000000</td>\n",
       "    </tr>\n",
       "    <tr>\n",
       "      <th>mean</th>\n",
       "      <td>1316.805427</td>\n",
       "      <td>1325.273654</td>\n",
       "      <td>1307.742244</td>\n",
       "      <td>1317.077714</td>\n",
       "      <td>3.914507e+09</td>\n",
       "      <td>1317.077714</td>\n",
       "      <td>0.000275</td>\n",
       "    </tr>\n",
       "    <tr>\n",
       "      <th>std</th>\n",
       "      <td>77.487146</td>\n",
       "      <td>74.569817</td>\n",
       "      <td>80.220363</td>\n",
       "      <td>77.519672</td>\n",
       "      <td>7.806098e+08</td>\n",
       "      <td>77.519672</td>\n",
       "      <td>0.011791</td>\n",
       "    </tr>\n",
       "    <tr>\n",
       "      <th>min</th>\n",
       "      <td>1097.420000</td>\n",
       "      <td>1125.120000</td>\n",
       "      <td>1074.770000</td>\n",
       "      <td>1099.230000</td>\n",
       "      <td>1.025000e+09</td>\n",
       "      <td>1099.230000</td>\n",
       "      <td>-0.065934</td>\n",
       "    </tr>\n",
       "    <tr>\n",
       "      <th>25%</th>\n",
       "      <td>1275.532500</td>\n",
       "      <td>1281.952500</td>\n",
       "      <td>1265.335000</td>\n",
       "      <td>1275.560000</td>\n",
       "      <td>3.533628e+09</td>\n",
       "      <td>1275.560000</td>\n",
       "      <td>-0.004501</td>\n",
       "    </tr>\n",
       "    <tr>\n",
       "      <th>50%</th>\n",
       "      <td>1321.750000</td>\n",
       "      <td>1330.430000</td>\n",
       "      <td>1313.465000</td>\n",
       "      <td>1321.845000</td>\n",
       "      <td>3.880780e+09</td>\n",
       "      <td>1321.845000</td>\n",
       "      <td>0.000533</td>\n",
       "    </tr>\n",
       "    <tr>\n",
       "      <th>75%</th>\n",
       "      <td>1367.207500</td>\n",
       "      <td>1374.722500</td>\n",
       "      <td>1362.397500</td>\n",
       "      <td>1367.870000</td>\n",
       "      <td>4.298310e+09</td>\n",
       "      <td>1367.870000</td>\n",
       "      <td>0.006177</td>\n",
       "    </tr>\n",
       "    <tr>\n",
       "      <th>max</th>\n",
       "      <td>1465.420000</td>\n",
       "      <td>1474.510000</td>\n",
       "      <td>1460.070000</td>\n",
       "      <td>1465.770000</td>\n",
       "      <td>6.703140e+09</td>\n",
       "      <td>1465.770000</td>\n",
       "      <td>0.046687</td>\n",
       "    </tr>\n",
       "  </tbody>\n",
       "</table>\n",
       "</div>"
      ],
      "text/plain": [
       "              Open         High          Low        Close        Volume  \\\n",
       "count   468.000000   468.000000   468.000000   468.000000  4.680000e+02   \n",
       "mean   1316.805427  1325.273654  1307.742244  1317.077714  3.914507e+09   \n",
       "std      77.487146    74.569817    80.220363    77.519672  7.806098e+08   \n",
       "min    1097.420000  1125.120000  1074.770000  1099.230000  1.025000e+09   \n",
       "25%    1275.532500  1281.952500  1265.335000  1275.560000  3.533628e+09   \n",
       "50%    1321.750000  1330.430000  1313.465000  1321.845000  3.880780e+09   \n",
       "75%    1367.207500  1374.722500  1362.397500  1367.870000  4.298310e+09   \n",
       "max    1465.420000  1474.510000  1460.070000  1465.770000  6.703140e+09   \n",
       "\n",
       "         Adj Close     Returns  \n",
       "count   468.000000  468.000000  \n",
       "mean   1317.077714    0.000275  \n",
       "std      77.519672    0.011791  \n",
       "min    1099.230000   -0.065934  \n",
       "25%    1275.560000   -0.004501  \n",
       "50%    1321.845000    0.000533  \n",
       "75%    1367.870000    0.006177  \n",
       "max    1465.770000    0.046687  "
      ]
     },
     "execution_count": 20,
     "metadata": {},
     "output_type": "execute_result"
    }
   ],
   "source": [
    "GSPCdf.describe() # very useful to see the count value"
   ]
  },
  {
   "cell_type": "code",
   "execution_count": 21,
   "metadata": {},
   "outputs": [
    {
     "data": {
      "text/plain": [
       "468"
      ]
     },
     "execution_count": 21,
     "metadata": {},
     "output_type": "execute_result"
    }
   ],
   "source": [
    "Rtcount = len(GSPCdf.Returns)\n",
    "Rtcount"
   ]
  },
  {
   "cell_type": "code",
   "execution_count": 22,
   "metadata": {},
   "outputs": [],
   "source": [
    "Bins = [-0.025, -0.02, -0.015, -0.01, -0.005, 0, 0.005, 0.01, 0.015, 0.02, 0.025]"
   ]
  },
  {
   "cell_type": "code",
   "execution_count": 23,
   "metadata": {},
   "outputs": [
    {
     "data": {
      "text/plain": [
       "['-0.025 to -0.02',\n",
       " '-0.02 to -0.015',\n",
       " '-0.015 to -0.01',\n",
       " '-0.01 to -0.005',\n",
       " '-0.005 to 0',\n",
       " '0 to 0.005',\n",
       " '0.005 to 0.01',\n",
       " '0.01 to 0.015',\n",
       " '0.015 to 0.02',\n",
       " '0.02 to 0.025']"
      ]
     },
     "execution_count": 23,
     "metadata": {},
     "output_type": "execute_result"
    }
   ],
   "source": [
    "intervals = [\"-0.025 to -0.02\", \"-0.02 to -0.015\", \"-0.015 to -0.01\", \"-0.01 to -0.005\",\"-0.005 to 0\", \n",
    "             \"0 to 0.005\", \"0.005 to 0.01\", \"0.01 to 0.015\", \"0.015 to 0.02\", \"0.02 to 0.025\"]\n",
    "intervals"
   ]
  },
  {
   "cell_type": "code",
   "execution_count": 24,
   "metadata": {},
   "outputs": [
    {
     "data": {
      "text/plain": [
       "10"
      ]
     },
     "execution_count": 24,
     "metadata": {},
     "output_type": "execute_result"
    }
   ],
   "source": [
    "intervalscount =  len(intervals)\n",
    "intervalscount"
   ]
  },
  {
   "cell_type": "code",
   "execution_count": 25,
   "metadata": {
    "scrolled": false
   },
   "outputs": [
    {
     "data": {
      "text/html": [
       "<div>\n",
       "<style scoped>\n",
       "    .dataframe tbody tr th:only-of-type {\n",
       "        vertical-align: middle;\n",
       "    }\n",
       "\n",
       "    .dataframe tbody tr th {\n",
       "        vertical-align: top;\n",
       "    }\n",
       "\n",
       "    .dataframe thead th {\n",
       "        text-align: right;\n",
       "    }\n",
       "</style>\n",
       "<table border=\"1\" class=\"dataframe\">\n",
       "  <thead>\n",
       "    <tr style=\"text-align: right;\">\n",
       "      <th></th>\n",
       "      <th>Date</th>\n",
       "      <th>Open</th>\n",
       "      <th>High</th>\n",
       "      <th>Low</th>\n",
       "      <th>Close</th>\n",
       "      <th>Volume</th>\n",
       "      <th>Adj Close</th>\n",
       "      <th>Returns</th>\n",
       "      <th>Return % Bins</th>\n",
       "    </tr>\n",
       "  </thead>\n",
       "  <tbody>\n",
       "    <tr>\n",
       "      <th>463</th>\n",
       "      <td>1/7/2011</td>\n",
       "      <td>1274.41</td>\n",
       "      <td>1276.83</td>\n",
       "      <td>1261.70</td>\n",
       "      <td>1271.50</td>\n",
       "      <td>4963110000</td>\n",
       "      <td>1271.50</td>\n",
       "      <td>-0.002283</td>\n",
       "      <td>-0.005 to 0</td>\n",
       "    </tr>\n",
       "    <tr>\n",
       "      <th>464</th>\n",
       "      <td>1/6/2011</td>\n",
       "      <td>1276.29</td>\n",
       "      <td>1278.17</td>\n",
       "      <td>1270.43</td>\n",
       "      <td>1273.85</td>\n",
       "      <td>4844100000</td>\n",
       "      <td>1273.85</td>\n",
       "      <td>-0.001912</td>\n",
       "      <td>-0.005 to 0</td>\n",
       "    </tr>\n",
       "    <tr>\n",
       "      <th>465</th>\n",
       "      <td>1/5/2011</td>\n",
       "      <td>1268.78</td>\n",
       "      <td>1277.63</td>\n",
       "      <td>1265.36</td>\n",
       "      <td>1276.56</td>\n",
       "      <td>4764920000</td>\n",
       "      <td>1276.56</td>\n",
       "      <td>0.006132</td>\n",
       "      <td>0.005 to 0.01</td>\n",
       "    </tr>\n",
       "    <tr>\n",
       "      <th>466</th>\n",
       "      <td>1/4/2011</td>\n",
       "      <td>1272.95</td>\n",
       "      <td>1274.12</td>\n",
       "      <td>1262.66</td>\n",
       "      <td>1270.20</td>\n",
       "      <td>4796420000</td>\n",
       "      <td>1270.20</td>\n",
       "      <td>-0.002160</td>\n",
       "      <td>-0.005 to 0</td>\n",
       "    </tr>\n",
       "    <tr>\n",
       "      <th>467</th>\n",
       "      <td>1/3/2011</td>\n",
       "      <td>1257.62</td>\n",
       "      <td>1276.17</td>\n",
       "      <td>1257.62</td>\n",
       "      <td>1271.87</td>\n",
       "      <td>4286670000</td>\n",
       "      <td>1271.87</td>\n",
       "      <td>0.011331</td>\n",
       "      <td>0.01 to 0.015</td>\n",
       "    </tr>\n",
       "  </tbody>\n",
       "</table>\n",
       "</div>"
      ],
      "text/plain": [
       "         Date     Open     High      Low    Close      Volume  Adj Close  \\\n",
       "463  1/7/2011  1274.41  1276.83  1261.70  1271.50  4963110000    1271.50   \n",
       "464  1/6/2011  1276.29  1278.17  1270.43  1273.85  4844100000    1273.85   \n",
       "465  1/5/2011  1268.78  1277.63  1265.36  1276.56  4764920000    1276.56   \n",
       "466  1/4/2011  1272.95  1274.12  1262.66  1270.20  4796420000    1270.20   \n",
       "467  1/3/2011  1257.62  1276.17  1257.62  1271.87  4286670000    1271.87   \n",
       "\n",
       "      Returns  Return % Bins  \n",
       "463 -0.002283    -0.005 to 0  \n",
       "464 -0.001912    -0.005 to 0  \n",
       "465  0.006132  0.005 to 0.01  \n",
       "466 -0.002160    -0.005 to 0  \n",
       "467  0.011331  0.01 to 0.015  "
      ]
     },
     "execution_count": 25,
     "metadata": {},
     "output_type": "execute_result"
    }
   ],
   "source": [
    "GSPCdf[\"Return % Bins\"] = pd.cut(GSPCdf[\"Returns\"], Bins, labels=intervals)\n",
    "GSPCdf.tail()"
   ]
  },
  {
   "cell_type": "code",
   "execution_count": 26,
   "metadata": {},
   "outputs": [
    {
     "data": {
      "text/html": [
       "<div>\n",
       "<style scoped>\n",
       "    .dataframe tbody tr th:only-of-type {\n",
       "        vertical-align: middle;\n",
       "    }\n",
       "\n",
       "    .dataframe tbody tr th {\n",
       "        vertical-align: top;\n",
       "    }\n",
       "\n",
       "    .dataframe thead th {\n",
       "        text-align: right;\n",
       "    }\n",
       "</style>\n",
       "<table border=\"1\" class=\"dataframe\">\n",
       "  <thead>\n",
       "    <tr style=\"text-align: right;\">\n",
       "      <th></th>\n",
       "      <th>Returns</th>\n",
       "      <th>Return % Bins</th>\n",
       "    </tr>\n",
       "  </thead>\n",
       "  <tbody>\n",
       "    <tr>\n",
       "      <th>0</th>\n",
       "      <td>0.001670</td>\n",
       "      <td>0 to 0.005</td>\n",
       "    </tr>\n",
       "    <tr>\n",
       "      <th>1</th>\n",
       "      <td>-0.012205</td>\n",
       "      <td>-0.015 to -0.01</td>\n",
       "    </tr>\n",
       "    <tr>\n",
       "      <th>2</th>\n",
       "      <td>-0.023623</td>\n",
       "      <td>-0.025 to -0.02</td>\n",
       "    </tr>\n",
       "    <tr>\n",
       "      <th>3</th>\n",
       "      <td>0.007853</td>\n",
       "      <td>0.005 to 0.01</td>\n",
       "    </tr>\n",
       "    <tr>\n",
       "      <th>4</th>\n",
       "      <td>0.002291</td>\n",
       "      <td>0 to 0.005</td>\n",
       "    </tr>\n",
       "  </tbody>\n",
       "</table>\n",
       "</div>"
      ],
      "text/plain": [
       "    Returns    Return % Bins\n",
       "0  0.001670       0 to 0.005\n",
       "1 -0.012205  -0.015 to -0.01\n",
       "2 -0.023623  -0.025 to -0.02\n",
       "3  0.007853    0.005 to 0.01\n",
       "4  0.002291       0 to 0.005"
      ]
     },
     "execution_count": 26,
     "metadata": {},
     "output_type": "execute_result"
    }
   ],
   "source": [
    "GSPCdfReturn = GSPCdf.loc[:, \"Returns\":\"Return % Bins\"]\n",
    "GSPCdfReturn.head()"
   ]
  },
  {
   "cell_type": "code",
   "execution_count": 27,
   "metadata": {},
   "outputs": [
    {
     "data": {
      "text/plain": [
       "-0.008476539117035817"
      ]
     },
     "execution_count": 27,
     "metadata": {},
     "output_type": "execute_result"
    }
   ],
   "source": [
    "#Get the average of return that is negative\n",
    "avgNegReturns = GSPCdf.loc[:,\"Returns\"]\n",
    "avgNegReturns = avgNegReturns.loc[avgNegReturns<0]\n",
    "avgNegReturns = avgNegReturns.mean()\n",
    "avgNegReturns"
   ]
  },
  {
   "cell_type": "code",
   "execution_count": 28,
   "metadata": {},
   "outputs": [
    {
     "data": {
      "text/plain": [
       "0.007776517787097856"
      ]
     },
     "execution_count": 28,
     "metadata": {},
     "output_type": "execute_result"
    }
   ],
   "source": [
    "#Get the average of return that is positive\n",
    "avgPosReturns = GSPCdf.loc[:,\"Returns\"]\n",
    "avgPosReturns = avgPosReturns.loc[avgPosReturns>0]\n",
    "avgPosReturns = avgPosReturns.mean()\n",
    "avgPosReturns"
   ]
  },
  {
   "cell_type": "code",
   "execution_count": 29,
   "metadata": {},
   "outputs": [
    {
     "data": {
      "text/plain": [
       "nan"
      ]
     },
     "execution_count": 29,
     "metadata": {},
     "output_type": "execute_result"
    }
   ],
   "source": [
    "#Get the average of return that is zero\n",
    "avgZeroReturns = GSPCdf.loc[:,\"Returns\"]\n",
    "avgZeroReturns = avgZeroReturns.loc[avgZeroReturns==0]\n",
    "avgZeroReturns = avgZeroReturns.mean()\n",
    "avgZeroReturns"
   ]
  },
  {
   "cell_type": "code",
   "execution_count": 30,
   "metadata": {
    "scrolled": true
   },
   "outputs": [
    {
     "data": {
      "text/plain": [
       "216"
      ]
     },
     "execution_count": 30,
     "metadata": {},
     "output_type": "execute_result"
    }
   ],
   "source": [
    "#Get the count of negative and positive returns\n",
    "NegReturns = len(GSPCdfReturn.loc[(GSPCdfReturn.Returns < 0)])\n",
    "NegReturns"
   ]
  },
  {
   "cell_type": "code",
   "execution_count": 31,
   "metadata": {},
   "outputs": [
    {
     "data": {
      "text/plain": [
       "252"
      ]
     },
     "execution_count": 31,
     "metadata": {},
     "output_type": "execute_result"
    }
   ],
   "source": [
    "PosReturns = len(GSPCdfReturn.loc[(GSPCdfReturn.Returns > 0)])\n",
    "PosReturns"
   ]
  },
  {
   "cell_type": "code",
   "execution_count": 32,
   "metadata": {},
   "outputs": [
    {
     "data": {
      "text/plain": [
       "0"
      ]
     },
     "execution_count": 32,
     "metadata": {},
     "output_type": "execute_result"
    }
   ],
   "source": [
    "ZeroReturns = len(GSPCdfReturn.loc[(GSPCdfReturn.Returns == 0)])\n",
    "ZeroReturns"
   ]
  },
  {
   "cell_type": "code",
   "execution_count": 33,
   "metadata": {},
   "outputs": [
    {
     "data": {
      "text/plain": [
       "53.84615384615385"
      ]
     },
     "execution_count": 33,
     "metadata": {},
     "output_type": "execute_result"
    }
   ],
   "source": [
    "ReturnCount = GSPCdfReturn[\"Returns\"].count()\n",
    "PosReturnsPer = PosReturns/ReturnCount*100\n",
    "PosReturnsPer"
   ]
  },
  {
   "cell_type": "code",
   "execution_count": 34,
   "metadata": {},
   "outputs": [
    {
     "data": {
      "text/plain": [
       "46.15384615384615"
      ]
     },
     "execution_count": 34,
     "metadata": {},
     "output_type": "execute_result"
    }
   ],
   "source": [
    "NegReturnPer = NegReturns/ReturnCount*100\n",
    "NegReturnPer"
   ]
  },
  {
   "cell_type": "code",
   "execution_count": 35,
   "metadata": {},
   "outputs": [
    {
     "data": {
      "text/plain": [
       "0.0"
      ]
     },
     "execution_count": 35,
     "metadata": {},
     "output_type": "execute_result"
    }
   ],
   "source": [
    "ZeroReturns = ZeroReturns/ReturnCount*100\n",
    "ZeroReturns"
   ]
  },
  {
   "cell_type": "code",
   "execution_count": 36,
   "metadata": {},
   "outputs": [
    {
     "data": {
      "text/plain": [
       "0.418735573151423"
      ]
     },
     "execution_count": 36,
     "metadata": {},
     "output_type": "execute_result"
    }
   ],
   "source": [
    "TotalAvgPosReturns = avgPosReturns*PosReturnsPer\n",
    "TotalAvgPosReturns"
   ]
  },
  {
   "cell_type": "code",
   "execution_count": 37,
   "metadata": {},
   "outputs": [
    {
     "data": {
      "text/plain": [
       "-0.39122488232473"
      ]
     },
     "execution_count": 37,
     "metadata": {},
     "output_type": "execute_result"
    }
   ],
   "source": [
    "TotalAvgNegReturns = avgNegReturns*NegReturnPer\n",
    "TotalAvgNegReturns"
   ]
  },
  {
   "cell_type": "code",
   "execution_count": 38,
   "metadata": {},
   "outputs": [
    {
     "data": {
      "text/html": [
       "<div>\n",
       "<style scoped>\n",
       "    .dataframe tbody tr th:only-of-type {\n",
       "        vertical-align: middle;\n",
       "    }\n",
       "\n",
       "    .dataframe tbody tr th {\n",
       "        vertical-align: top;\n",
       "    }\n",
       "\n",
       "    .dataframe thead th {\n",
       "        text-align: right;\n",
       "    }\n",
       "</style>\n",
       "<table border=\"1\" class=\"dataframe\">\n",
       "  <thead>\n",
       "    <tr style=\"text-align: right;\">\n",
       "      <th></th>\n",
       "      <th>Return % Bins</th>\n",
       "      <th>Returns</th>\n",
       "      <th>Return Frequency (%)</th>\n",
       "    </tr>\n",
       "  </thead>\n",
       "  <tbody>\n",
       "    <tr>\n",
       "      <th>0</th>\n",
       "      <td>-0.025 to -0.02</td>\n",
       "      <td>12</td>\n",
       "      <td>2.56</td>\n",
       "    </tr>\n",
       "    <tr>\n",
       "      <th>1</th>\n",
       "      <td>-0.02 to -0.015</td>\n",
       "      <td>16</td>\n",
       "      <td>3.42</td>\n",
       "    </tr>\n",
       "    <tr>\n",
       "      <th>2</th>\n",
       "      <td>-0.015 to -0.01</td>\n",
       "      <td>23</td>\n",
       "      <td>4.91</td>\n",
       "    </tr>\n",
       "    <tr>\n",
       "      <th>3</th>\n",
       "      <td>-0.01 to -0.005</td>\n",
       "      <td>51</td>\n",
       "      <td>10.90</td>\n",
       "    </tr>\n",
       "    <tr>\n",
       "      <th>4</th>\n",
       "      <td>-0.005 to 0</td>\n",
       "      <td>103</td>\n",
       "      <td>22.01</td>\n",
       "    </tr>\n",
       "    <tr>\n",
       "      <th>5</th>\n",
       "      <td>0 to 0.005</td>\n",
       "      <td>120</td>\n",
       "      <td>25.64</td>\n",
       "    </tr>\n",
       "    <tr>\n",
       "      <th>6</th>\n",
       "      <td>0.005 to 0.01</td>\n",
       "      <td>64</td>\n",
       "      <td>13.68</td>\n",
       "    </tr>\n",
       "    <tr>\n",
       "      <th>7</th>\n",
       "      <td>0.01 to 0.015</td>\n",
       "      <td>33</td>\n",
       "      <td>7.05</td>\n",
       "    </tr>\n",
       "    <tr>\n",
       "      <th>8</th>\n",
       "      <td>0.015 to 0.02</td>\n",
       "      <td>18</td>\n",
       "      <td>3.85</td>\n",
       "    </tr>\n",
       "    <tr>\n",
       "      <th>9</th>\n",
       "      <td>0.02 to 0.025</td>\n",
       "      <td>7</td>\n",
       "      <td>1.50</td>\n",
       "    </tr>\n",
       "  </tbody>\n",
       "</table>\n",
       "</div>"
      ],
      "text/plain": [
       "     Return % Bins  Returns  Return Frequency (%)\n",
       "0  -0.025 to -0.02       12                  2.56\n",
       "1  -0.02 to -0.015       16                  3.42\n",
       "2  -0.015 to -0.01       23                  4.91\n",
       "3  -0.01 to -0.005       51                 10.90\n",
       "4      -0.005 to 0      103                 22.01\n",
       "5       0 to 0.005      120                 25.64\n",
       "6    0.005 to 0.01       64                 13.68\n",
       "7    0.01 to 0.015       33                  7.05\n",
       "8    0.015 to 0.02       18                  3.85\n",
       "9    0.02 to 0.025        7                  1.50"
      ]
     },
     "execution_count": 38,
     "metadata": {},
     "output_type": "execute_result"
    }
   ],
   "source": [
    "GSPCgrp = GSPCdfReturn.groupby(\"Return % Bins\")\n",
    "GSPCgrpCount = GSPCgrp.count() #I count how many times the Percentage returns appear in the data set\n",
    "GSPCgrpCount = GSPCgrpCount.reset_index() #I reset the index to numbers\n",
    "GSPCgrpCount[\"Return Frequency (%)\"] = GSPCgrpCount[\"Returns\"]/Rtcount*100\n",
    "GSPCgrpCount = GSPCgrpCount.round(2)\n",
    "GSPCgrpCount"
   ]
  },
  {
   "cell_type": "code",
   "execution_count": 39,
   "metadata": {},
   "outputs": [
    {
     "data": {
      "text/plain": [
       "0.027510690826692906"
      ]
     },
     "execution_count": 39,
     "metadata": {},
     "output_type": "execute_result"
    }
   ],
   "source": [
    "Return_mean = GSPCdf[\"Returns\"].mean()*100\n",
    "Return_mean"
   ]
  },
  {
   "cell_type": "code",
   "execution_count": 40,
   "metadata": {
    "scrolled": true
   },
   "outputs": [
    {
     "data": {
      "text/plain": [
       "0      0.001670\n",
       "1     -0.012205\n",
       "2     -0.023623\n",
       "3      0.007853\n",
       "4      0.002291\n",
       "5     -0.009379\n",
       "6      0.010898\n",
       "7      0.000829\n",
       "8     -0.000729\n",
       "9      0.002291\n",
       "10    -0.003149\n",
       "11    -0.014389\n",
       "12     0.000419\n",
       "13    -0.016571\n",
       "14    -0.002464\n",
       "15     0.004600\n",
       "16     0.010144\n",
       "17     0.007965\n",
       "18    -0.002966\n",
       "19     0.000014\n",
       "20    -0.006188\n",
       "21    -0.009905\n",
       "22    -0.003457\n",
       "23    -0.000322\n",
       "24     0.007112\n",
       "25     0.003416\n",
       "26     0.000526\n",
       "27     0.002491\n",
       "28    -0.004464\n",
       "29     0.009621\n",
       "         ...   \n",
       "438    0.002702\n",
       "439    0.007955\n",
       "440    0.002837\n",
       "441   -0.001210\n",
       "442    0.004406\n",
       "443    0.005488\n",
       "444    0.002953\n",
       "445    0.003324\n",
       "446   -0.001440\n",
       "447    0.014312\n",
       "448    0.007536\n",
       "449   -0.017920\n",
       "450    0.001565\n",
       "451    0.003607\n",
       "452    0.002337\n",
       "453    0.005883\n",
       "454   -0.000218\n",
       "455   -0.000461\n",
       "456   -0.009733\n",
       "457    0.001392\n",
       "458    0.008060\n",
       "459   -0.001571\n",
       "460    0.008082\n",
       "461    0.001493\n",
       "462   -0.000858\n",
       "463   -0.002283\n",
       "464   -0.001912\n",
       "465    0.006132\n",
       "466   -0.002160\n",
       "467    0.011331\n",
       "Name: Returns, Length: 468, dtype: float64"
      ]
     },
     "execution_count": 40,
     "metadata": {},
     "output_type": "execute_result"
    }
   ],
   "source": [
    "histReturns = GSPCdf[\"Returns\"]\n",
    "histReturns"
   ]
  },
  {
   "cell_type": "markdown",
   "metadata": {},
   "source": [
    "# make the line plot of the stock prices over time\n",
    "stockPrice = sns.lineplot(x=\"Date\", y=\"Close\", data=GSPCdf)\n",
    "stockPrice = sns.regplot(x=\"Date\", y=\"Close\", data=GSPCdf)\n",
    "stockPrice.show()"
   ]
  },
  {
   "cell_type": "code",
   "execution_count": 41,
   "metadata": {},
   "outputs": [
    {
     "data": {
      "image/png": "[encoded data removed]",
      "text/plain": [
       "<Figure size 432x288 with 1 Axes>"
      ]
     },
     "metadata": {
      "needs_background": "light"
     },
     "output_type": "display_data"
    }
   ],
   "source": [
    "#make the line plot using matplotlib\n",
    "fig = plt.figure()\n",
    "fig = plt.plot(\"Date\", \"Close\", data=GSPCdf)\n",
    "fig = plt.xlabel(\"time (d)\")\n",
    "fig = plt.ylabel(\"Close Price\")\n",
    "fig = plt.title(\"Stock price over time\")\n",
    "plt.show()"
   ]
  },
  {
   "cell_type": "code",
   "execution_count": 42,
   "metadata": {},
   "outputs": [],
   "source": [
    "#trying to make the linear regression plot with seaborne\n"
   ]
  },
  {
   "cell_type": "code",
   "execution_count": 43,
   "metadata": {},
   "outputs": [
    {
     "data": {
      "image/png": "[encoded data removed]",
      "text/plain": [
       "<Figure size 432x288 with 1 Axes>"
      ]
     },
     "metadata": {
      "needs_background": "light"
     },
     "output_type": "display_data"
    }
   ],
   "source": [
    "#make the histogram plot\n",
    "_= plt.hist(histReturns, bins=Bins, density=1, facecolor='g', alpha=0.75)\n",
    "plt.title(\"Histogram of % of daily Returns over two years for GSPC\")\n",
    "plt.xlabel(\"% Change\")\n",
    "plt.ylabel(\"Frequency\")\n",
    "plt.axis([-0.03, 0.03, 0, 130])\n",
    "plt.grid(True)\n",
    "plt.show()"
   ]
  },
  {
   "cell_type": "code",
   "execution_count": null,
   "metadata": {},
   "outputs": [],
   "source": []
  }
 ],
 "metadata": {
  "kernelspec": {
   "display_name": "Python 3",
   "language": "python",
   "name": "python3"
  },
  "language_info": {
   "codemirror_mode": {
    "name": "ipython",
    "version": 3
   },
   "file_extension": ".py",
   "mimetype": "text/x-python",
   "name": "python",
   "nbconvert_exporter": "python",
   "pygments_lexer": "ipython3",
   "version": "3.7.3"
  }
 },
 "nbformat": 4,
 "nbformat_minor": 2
}
