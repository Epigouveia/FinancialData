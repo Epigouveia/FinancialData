{
 "cells": [
  {
   "cell_type": "code",
   "execution_count": 7,
   "metadata": {},
   "outputs": [],
   "source": [
    "import datetime as dt\n",
    "import matplotlib.pyplot as plt\n",
    "from matplotlib import style\n",
    "import pandas as pd\n",
    "import pandas_datareader.data as web\n",
    "import numpy as np\n",
    "\n",
    "style.use(\"ggplot\")"
   ]
  },
  {
   "cell_type": "code",
   "execution_count": 8,
   "metadata": {
    "scrolled": false
   },
   "outputs": [
    {
     "name": "stdout",
     "output_type": "stream",
     "text": [
      "                   High          Low         Open        Close      Volume  \\\n",
      "Date                                                                         \n",
      "2012-11-05  1419.900024  1408.130005  1414.020020  1417.260010  2921040000   \n",
      "2012-11-06  1433.380005  1417.260010  1417.260010  1428.390015  3306970000   \n",
      "2012-11-07  1428.270020  1388.140015  1428.270020  1394.530029  4356490000   \n",
      "2012-11-08  1401.229980  1377.510010  1394.530029  1377.510010  3779520000   \n",
      "2012-11-09  1391.390015  1373.030029  1377.550049  1379.849976  3647350000   \n",
      "\n",
      "              Adj Close  \n",
      "Date                     \n",
      "2012-11-05  1417.260010  \n",
      "2012-11-06  1428.390015  \n",
      "2012-11-07  1394.530029  \n",
      "2012-11-08  1377.510010  \n",
      "2012-11-09  1379.849976  \n"
     ]
    }
   ],
   "source": [
    "start = dt.datetime(1962, 1, 3)\n",
    "end = dt.datetime(2012, 11, 9)\n",
    "\n",
    "df = web.DataReader(\"^GSPC\", \"yahoo\", start, end)\n",
    "print(df.tail())"
   ]
  },
  {
   "cell_type": "code",
   "execution_count": 12,
   "metadata": {},
   "outputs": [],
   "source": [
    "pd.DataFrame(df).to_csv(\"^GSPC_jupyter.csv\")"
   ]
  },
  {
   "cell_type": "code",
   "execution_count": 13,
   "metadata": {},
   "outputs": [
    {
     "data": {
      "text/plain": [
       "pandas.core.frame.DataFrame"
      ]
     },
     "execution_count": 13,
     "metadata": {},
     "output_type": "execute_result"
    }
   ],
   "source": [
    "type(df) # This was that the df is a dataframe type\n"
   ]
  },
  {
   "cell_type": "code",
   "execution_count": 15,
   "metadata": {
    "scrolled": true
   },
   "outputs": [
    {
     "data": {
      "text/html": [
       "<div>\n",
       "<style scoped>\n",
       "    .dataframe tbody tr th:only-of-type {\n",
       "        vertical-align: middle;\n",
       "    }\n",
       "\n",
       "    .dataframe tbody tr th {\n",
       "        vertical-align: top;\n",
       "    }\n",
       "\n",
       "    .dataframe thead th {\n",
       "        text-align: right;\n",
       "    }\n",
       "</style>\n",
       "<table border=\"1\" class=\"dataframe\">\n",
       "  <thead>\n",
       "    <tr style=\"text-align: right;\">\n",
       "      <th></th>\n",
       "      <th>Date</th>\n",
       "      <th>High</th>\n",
       "      <th>Low</th>\n",
       "      <th>Open</th>\n",
       "      <th>Close</th>\n",
       "      <th>Volume</th>\n",
       "      <th>Adj Close</th>\n",
       "    </tr>\n",
       "  </thead>\n",
       "  <tbody>\n",
       "    <tr>\n",
       "      <th>0</th>\n",
       "      <td>1962-01-02</td>\n",
       "      <td>71.959999</td>\n",
       "      <td>70.709999</td>\n",
       "      <td>71.550003</td>\n",
       "      <td>70.959999</td>\n",
       "      <td>3120000</td>\n",
       "      <td>70.959999</td>\n",
       "    </tr>\n",
       "    <tr>\n",
       "      <th>1</th>\n",
       "      <td>1962-01-03</td>\n",
       "      <td>71.480003</td>\n",
       "      <td>70.379997</td>\n",
       "      <td>70.959999</td>\n",
       "      <td>71.129997</td>\n",
       "      <td>3590000</td>\n",
       "      <td>71.129997</td>\n",
       "    </tr>\n",
       "    <tr>\n",
       "      <th>2</th>\n",
       "      <td>1962-01-04</td>\n",
       "      <td>71.620003</td>\n",
       "      <td>70.449997</td>\n",
       "      <td>71.129997</td>\n",
       "      <td>70.639999</td>\n",
       "      <td>4450000</td>\n",
       "      <td>70.639999</td>\n",
       "    </tr>\n",
       "    <tr>\n",
       "      <th>3</th>\n",
       "      <td>1962-01-05</td>\n",
       "      <td>70.839996</td>\n",
       "      <td>69.349998</td>\n",
       "      <td>70.639999</td>\n",
       "      <td>69.660004</td>\n",
       "      <td>4630000</td>\n",
       "      <td>69.660004</td>\n",
       "    </tr>\n",
       "    <tr>\n",
       "      <th>4</th>\n",
       "      <td>1962-01-08</td>\n",
       "      <td>69.839996</td>\n",
       "      <td>68.169998</td>\n",
       "      <td>69.660004</td>\n",
       "      <td>69.120003</td>\n",
       "      <td>4620000</td>\n",
       "      <td>69.120003</td>\n",
       "    </tr>\n",
       "  </tbody>\n",
       "</table>\n",
       "</div>"
      ],
      "text/plain": [
       "         Date       High        Low       Open      Close   Volume  Adj Close\n",
       "0  1962-01-02  71.959999  70.709999  71.550003  70.959999  3120000  70.959999\n",
       "1  1962-01-03  71.480003  70.379997  70.959999  71.129997  3590000  71.129997\n",
       "2  1962-01-04  71.620003  70.449997  71.129997  70.639999  4450000  70.639999\n",
       "3  1962-01-05  70.839996  69.349998  70.639999  69.660004  4630000  69.660004\n",
       "4  1962-01-08  69.839996  68.169998  69.660004  69.120003  4620000  69.120003"
      ]
     },
     "execution_count": 15,
     "metadata": {},
     "output_type": "execute_result"
    }
   ],
   "source": [
    "GSPCdf = pd.read_csv(\"^GSPC_jupyter.csv\")\n",
    "GSPCdf.head()"
   ]
  },
  {
   "cell_type": "code",
   "execution_count": 20,
   "metadata": {},
   "outputs": [
    {
     "ename": "TypeError",
     "evalue": "'DataFrame' object is not callable",
     "output_type": "error",
     "traceback": [
      "\u001b[0;31m---------------------------------------------------------------------------\u001b[0m",
      "\u001b[0;31mTypeError\u001b[0m                                 Traceback (most recent call last)",
      "\u001b[0;32m<ipython-input-20-4954be4e8cca>\u001b[0m in \u001b[0;36m<module>\u001b[0;34m\u001b[0m\n\u001b[0;32m----> 1\u001b[0;31m \u001b[0mGSPCdf\u001b[0m\u001b[0;34m[\u001b[0m\u001b[0;34m\"Return\"\u001b[0m\u001b[0;34m]\u001b[0m \u001b[0;34m=\u001b[0m \u001b[0mGSPCdf\u001b[0m\u001b[0;34m(\u001b[0m\u001b[0;34m(\u001b[0m\u001b[0mGSPCdf\u001b[0m\u001b[0;34m.\u001b[0m\u001b[0mClose\u001b[0m \u001b[0;34m-\u001b[0m \u001b[0mGSPCdf\u001b[0m\u001b[0;34m.\u001b[0m\u001b[0mOpen\u001b[0m\u001b[0;34m)\u001b[0m \u001b[0;34m/\u001b[0m \u001b[0mGSPCdf\u001b[0m\u001b[0;34m.\u001b[0m\u001b[0mOpen\u001b[0m\u001b[0;34m)\u001b[0m\u001b[0;34m\u001b[0m\u001b[0;34m\u001b[0m\u001b[0m\n\u001b[0m",
      "\u001b[0;31mTypeError\u001b[0m: 'DataFrame' object is not callable"
     ]
    }
   ],
   "source": [
    "GSPCdf[\"Return\"] = GSPCdf((GSPCdf.Close - GSPCdf.Open) / GSPCdf.Open)"
   ]
  }
 ],
 "metadata": {
  "kernelspec": {
   "display_name": "Python 3",
   "language": "python",
   "name": "python3"
  },
  "language_info": {
   "codemirror_mode": {
    "name": "ipython",
    "version": 3
   },
   "file_extension": ".py",
   "mimetype": "text/x-python",
   "name": "python",
   "nbconvert_exporter": "python",
   "pygments_lexer": "ipython3",
   "version": "3.7.3"
  }
 },
 "nbformat": 4,
 "nbformat_minor": 2
}
